{
 "cells": [
  {
   "cell_type": "code",
   "execution_count": 1,
   "metadata": {
    "id": "Srx7V9MsdkIa"
   },
   "outputs": [],
   "source": [
    "import pandas as pd\n",
    "import numpy as np \n",
    "import seaborn as sns\n",
    "from google.colab import files\n",
    "import io\n",
    "\n",
    "import matplotlib.pylab as plt"
   ]
  },
  {
   "cell_type": "code",
   "execution_count": 2,
   "metadata": {
    "colab": {
     "base_uri": "https://localhost:8080/",
     "height": 73
    },
    "id": "Ym3F0DtRdyAq",
    "outputId": "de32e73a-85f6-4234-ade0-48e88b4a265a"
   },
   "outputs": [],
   "source": [
    "uploaded = files.upload()\n",
    "marketingCampaign = pd.read_excel(io.BytesIO(uploaded['marketing_campaign.xlsx']))\n",
    "# marketingCampaign = pd.read_excel(\"C:/Users/Ashu/Desktop/ADS-505/Module6/ADS505-finalproject/data/marketing_campaign.xlsx\")"
   ]
  },
  {
   "cell_type": "code",
   "execution_count": 3,
   "metadata": {
    "colab": {
     "base_uri": "https://localhost:8080/",
     "height": 299
    },
    "id": "_hWLSPAed65G",
    "outputId": "bad83102-638e-4365-a30a-0ceb42a91da5"
   },
   "outputs": [
    {
     "data": {
      "text/html": [
       "<div>\n",
       "<style scoped>\n",
       "    .dataframe tbody tr th:only-of-type {\n",
       "        vertical-align: middle;\n",
       "    }\n",
       "\n",
       "    .dataframe tbody tr th {\n",
       "        vertical-align: top;\n",
       "    }\n",
       "\n",
       "    .dataframe thead th {\n",
       "        text-align: right;\n",
       "    }\n",
       "</style>\n",
       "<table border=\"1\" class=\"dataframe\">\n",
       "  <thead>\n",
       "    <tr style=\"text-align: right;\">\n",
       "      <th></th>\n",
       "      <th>ID</th>\n",
       "      <th>Year_Birth</th>\n",
       "      <th>Education</th>\n",
       "      <th>Marital_Status</th>\n",
       "      <th>Income</th>\n",
       "      <th>Kidhome</th>\n",
       "      <th>Teenhome</th>\n",
       "      <th>Dt_Customer</th>\n",
       "      <th>Recency</th>\n",
       "      <th>MntWines</th>\n",
       "      <th>...</th>\n",
       "      <th>NumWebVisitsMonth</th>\n",
       "      <th>AcceptedCmp3</th>\n",
       "      <th>AcceptedCmp4</th>\n",
       "      <th>AcceptedCmp5</th>\n",
       "      <th>AcceptedCmp1</th>\n",
       "      <th>AcceptedCmp2</th>\n",
       "      <th>Complain</th>\n",
       "      <th>Z_CostContact</th>\n",
       "      <th>Z_Revenue</th>\n",
       "      <th>Response</th>\n",
       "    </tr>\n",
       "  </thead>\n",
       "  <tbody>\n",
       "    <tr>\n",
       "      <th>0</th>\n",
       "      <td>5524</td>\n",
       "      <td>1957</td>\n",
       "      <td>Graduation</td>\n",
       "      <td>Single</td>\n",
       "      <td>58138.0</td>\n",
       "      <td>0</td>\n",
       "      <td>0</td>\n",
       "      <td>2012-09-04</td>\n",
       "      <td>58</td>\n",
       "      <td>635</td>\n",
       "      <td>...</td>\n",
       "      <td>7</td>\n",
       "      <td>0</td>\n",
       "      <td>0</td>\n",
       "      <td>0</td>\n",
       "      <td>0</td>\n",
       "      <td>0</td>\n",
       "      <td>0</td>\n",
       "      <td>3</td>\n",
       "      <td>11</td>\n",
       "      <td>1</td>\n",
       "    </tr>\n",
       "    <tr>\n",
       "      <th>1</th>\n",
       "      <td>2174</td>\n",
       "      <td>1954</td>\n",
       "      <td>Graduation</td>\n",
       "      <td>Single</td>\n",
       "      <td>46344.0</td>\n",
       "      <td>1</td>\n",
       "      <td>1</td>\n",
       "      <td>2014-03-08</td>\n",
       "      <td>38</td>\n",
       "      <td>11</td>\n",
       "      <td>...</td>\n",
       "      <td>5</td>\n",
       "      <td>0</td>\n",
       "      <td>0</td>\n",
       "      <td>0</td>\n",
       "      <td>0</td>\n",
       "      <td>0</td>\n",
       "      <td>0</td>\n",
       "      <td>3</td>\n",
       "      <td>11</td>\n",
       "      <td>0</td>\n",
       "    </tr>\n",
       "    <tr>\n",
       "      <th>2</th>\n",
       "      <td>4141</td>\n",
       "      <td>1965</td>\n",
       "      <td>Graduation</td>\n",
       "      <td>Together</td>\n",
       "      <td>71613.0</td>\n",
       "      <td>0</td>\n",
       "      <td>0</td>\n",
       "      <td>2013-08-21</td>\n",
       "      <td>26</td>\n",
       "      <td>426</td>\n",
       "      <td>...</td>\n",
       "      <td>4</td>\n",
       "      <td>0</td>\n",
       "      <td>0</td>\n",
       "      <td>0</td>\n",
       "      <td>0</td>\n",
       "      <td>0</td>\n",
       "      <td>0</td>\n",
       "      <td>3</td>\n",
       "      <td>11</td>\n",
       "      <td>0</td>\n",
       "    </tr>\n",
       "    <tr>\n",
       "      <th>3</th>\n",
       "      <td>6182</td>\n",
       "      <td>1984</td>\n",
       "      <td>Graduation</td>\n",
       "      <td>Together</td>\n",
       "      <td>26646.0</td>\n",
       "      <td>1</td>\n",
       "      <td>0</td>\n",
       "      <td>2014-02-10</td>\n",
       "      <td>26</td>\n",
       "      <td>11</td>\n",
       "      <td>...</td>\n",
       "      <td>6</td>\n",
       "      <td>0</td>\n",
       "      <td>0</td>\n",
       "      <td>0</td>\n",
       "      <td>0</td>\n",
       "      <td>0</td>\n",
       "      <td>0</td>\n",
       "      <td>3</td>\n",
       "      <td>11</td>\n",
       "      <td>0</td>\n",
       "    </tr>\n",
       "    <tr>\n",
       "      <th>4</th>\n",
       "      <td>5324</td>\n",
       "      <td>1981</td>\n",
       "      <td>PhD</td>\n",
       "      <td>Married</td>\n",
       "      <td>58293.0</td>\n",
       "      <td>1</td>\n",
       "      <td>0</td>\n",
       "      <td>2014-01-19</td>\n",
       "      <td>94</td>\n",
       "      <td>173</td>\n",
       "      <td>...</td>\n",
       "      <td>5</td>\n",
       "      <td>0</td>\n",
       "      <td>0</td>\n",
       "      <td>0</td>\n",
       "      <td>0</td>\n",
       "      <td>0</td>\n",
       "      <td>0</td>\n",
       "      <td>3</td>\n",
       "      <td>11</td>\n",
       "      <td>0</td>\n",
       "    </tr>\n",
       "  </tbody>\n",
       "</table>\n",
       "<p>5 rows × 29 columns</p>\n",
       "</div>"
      ],
      "text/plain": [
       "     ID  Year_Birth   Education Marital_Status   Income  Kidhome  Teenhome  \\\n",
       "0  5524        1957  Graduation         Single  58138.0        0         0   \n",
       "1  2174        1954  Graduation         Single  46344.0        1         1   \n",
       "2  4141        1965  Graduation       Together  71613.0        0         0   \n",
       "3  6182        1984  Graduation       Together  26646.0        1         0   \n",
       "4  5324        1981         PhD        Married  58293.0        1         0   \n",
       "\n",
       "  Dt_Customer  Recency  MntWines  ...  NumWebVisitsMonth  AcceptedCmp3  \\\n",
       "0  2012-09-04       58       635  ...                  7             0   \n",
       "1  2014-03-08       38        11  ...                  5             0   \n",
       "2  2013-08-21       26       426  ...                  4             0   \n",
       "3  2014-02-10       26        11  ...                  6             0   \n",
       "4  2014-01-19       94       173  ...                  5             0   \n",
       "\n",
       "   AcceptedCmp4  AcceptedCmp5  AcceptedCmp1  AcceptedCmp2  Complain  \\\n",
       "0             0             0             0             0         0   \n",
       "1             0             0             0             0         0   \n",
       "2             0             0             0             0         0   \n",
       "3             0             0             0             0         0   \n",
       "4             0             0             0             0         0   \n",
       "\n",
       "   Z_CostContact  Z_Revenue  Response  \n",
       "0              3         11         1  \n",
       "1              3         11         0  \n",
       "2              3         11         0  \n",
       "3              3         11         0  \n",
       "4              3         11         0  \n",
       "\n",
       "[5 rows x 29 columns]"
      ]
     },
     "execution_count": 3,
     "metadata": {},
     "output_type": "execute_result"
    }
   ],
   "source": [
    "marketingCampaign.head()"
   ]
  },
  {
   "cell_type": "code",
   "execution_count": 4,
   "metadata": {
    "colab": {
     "base_uri": "https://localhost:8080/"
    },
    "id": "ouBEZoKLd-jV",
    "outputId": "587f8871-4b0b-489e-9fde-591da2c97a56"
   },
   "outputs": [
    {
     "data": {
      "text/plain": [
       "(2240, 29)"
      ]
     },
     "execution_count": 4,
     "metadata": {},
     "output_type": "execute_result"
    }
   ],
   "source": [
    "marketingCampaign.shape"
   ]
  },
  {
   "cell_type": "code",
   "execution_count": 5,
   "metadata": {
    "colab": {
     "base_uri": "https://localhost:8080/",
     "height": 394
    },
    "id": "it9j__1vdx9U",
    "outputId": "19347602-65b4-49e1-8310-125d043edecb"
   },
   "outputs": [
    {
     "data": {
      "text/html": [
       "<div>\n",
       "<style scoped>\n",
       "    .dataframe tbody tr th:only-of-type {\n",
       "        vertical-align: middle;\n",
       "    }\n",
       "\n",
       "    .dataframe tbody tr th {\n",
       "        vertical-align: top;\n",
       "    }\n",
       "\n",
       "    .dataframe thead th {\n",
       "        text-align: right;\n",
       "    }\n",
       "</style>\n",
       "<table border=\"1\" class=\"dataframe\">\n",
       "  <thead>\n",
       "    <tr style=\"text-align: right;\">\n",
       "      <th></th>\n",
       "      <th>ID</th>\n",
       "      <th>Year_Birth</th>\n",
       "      <th>Income</th>\n",
       "      <th>Kidhome</th>\n",
       "      <th>Teenhome</th>\n",
       "      <th>Recency</th>\n",
       "      <th>MntWines</th>\n",
       "      <th>MntFruits</th>\n",
       "      <th>MntMeatProducts</th>\n",
       "      <th>MntFishProducts</th>\n",
       "      <th>...</th>\n",
       "      <th>NumWebVisitsMonth</th>\n",
       "      <th>AcceptedCmp3</th>\n",
       "      <th>AcceptedCmp4</th>\n",
       "      <th>AcceptedCmp5</th>\n",
       "      <th>AcceptedCmp1</th>\n",
       "      <th>AcceptedCmp2</th>\n",
       "      <th>Complain</th>\n",
       "      <th>Z_CostContact</th>\n",
       "      <th>Z_Revenue</th>\n",
       "      <th>Response</th>\n",
       "    </tr>\n",
       "  </thead>\n",
       "  <tbody>\n",
       "    <tr>\n",
       "      <th>count</th>\n",
       "      <td>2240.000000</td>\n",
       "      <td>2240.000000</td>\n",
       "      <td>2216.000000</td>\n",
       "      <td>2240.000000</td>\n",
       "      <td>2240.000000</td>\n",
       "      <td>2240.000000</td>\n",
       "      <td>2240.000000</td>\n",
       "      <td>2240.000000</td>\n",
       "      <td>2240.000000</td>\n",
       "      <td>2240.000000</td>\n",
       "      <td>...</td>\n",
       "      <td>2240.000000</td>\n",
       "      <td>2240.000000</td>\n",
       "      <td>2240.000000</td>\n",
       "      <td>2240.000000</td>\n",
       "      <td>2240.000000</td>\n",
       "      <td>2240.000000</td>\n",
       "      <td>2240.000000</td>\n",
       "      <td>2240.0</td>\n",
       "      <td>2240.0</td>\n",
       "      <td>2240.000000</td>\n",
       "    </tr>\n",
       "    <tr>\n",
       "      <th>mean</th>\n",
       "      <td>5592.159821</td>\n",
       "      <td>1968.805804</td>\n",
       "      <td>52247.251354</td>\n",
       "      <td>0.444196</td>\n",
       "      <td>0.506250</td>\n",
       "      <td>49.109375</td>\n",
       "      <td>303.935714</td>\n",
       "      <td>26.302232</td>\n",
       "      <td>166.950000</td>\n",
       "      <td>37.525446</td>\n",
       "      <td>...</td>\n",
       "      <td>5.316518</td>\n",
       "      <td>0.072768</td>\n",
       "      <td>0.074554</td>\n",
       "      <td>0.072768</td>\n",
       "      <td>0.064286</td>\n",
       "      <td>0.013393</td>\n",
       "      <td>0.009375</td>\n",
       "      <td>3.0</td>\n",
       "      <td>11.0</td>\n",
       "      <td>0.149107</td>\n",
       "    </tr>\n",
       "    <tr>\n",
       "      <th>std</th>\n",
       "      <td>3246.662198</td>\n",
       "      <td>11.984069</td>\n",
       "      <td>25173.076661</td>\n",
       "      <td>0.538398</td>\n",
       "      <td>0.544538</td>\n",
       "      <td>28.962453</td>\n",
       "      <td>336.597393</td>\n",
       "      <td>39.773434</td>\n",
       "      <td>225.715373</td>\n",
       "      <td>54.628979</td>\n",
       "      <td>...</td>\n",
       "      <td>2.426645</td>\n",
       "      <td>0.259813</td>\n",
       "      <td>0.262728</td>\n",
       "      <td>0.259813</td>\n",
       "      <td>0.245316</td>\n",
       "      <td>0.114976</td>\n",
       "      <td>0.096391</td>\n",
       "      <td>0.0</td>\n",
       "      <td>0.0</td>\n",
       "      <td>0.356274</td>\n",
       "    </tr>\n",
       "    <tr>\n",
       "      <th>min</th>\n",
       "      <td>0.000000</td>\n",
       "      <td>1893.000000</td>\n",
       "      <td>1730.000000</td>\n",
       "      <td>0.000000</td>\n",
       "      <td>0.000000</td>\n",
       "      <td>0.000000</td>\n",
       "      <td>0.000000</td>\n",
       "      <td>0.000000</td>\n",
       "      <td>0.000000</td>\n",
       "      <td>0.000000</td>\n",
       "      <td>...</td>\n",
       "      <td>0.000000</td>\n",
       "      <td>0.000000</td>\n",
       "      <td>0.000000</td>\n",
       "      <td>0.000000</td>\n",
       "      <td>0.000000</td>\n",
       "      <td>0.000000</td>\n",
       "      <td>0.000000</td>\n",
       "      <td>3.0</td>\n",
       "      <td>11.0</td>\n",
       "      <td>0.000000</td>\n",
       "    </tr>\n",
       "    <tr>\n",
       "      <th>25%</th>\n",
       "      <td>2828.250000</td>\n",
       "      <td>1959.000000</td>\n",
       "      <td>35303.000000</td>\n",
       "      <td>0.000000</td>\n",
       "      <td>0.000000</td>\n",
       "      <td>24.000000</td>\n",
       "      <td>23.750000</td>\n",
       "      <td>1.000000</td>\n",
       "      <td>16.000000</td>\n",
       "      <td>3.000000</td>\n",
       "      <td>...</td>\n",
       "      <td>3.000000</td>\n",
       "      <td>0.000000</td>\n",
       "      <td>0.000000</td>\n",
       "      <td>0.000000</td>\n",
       "      <td>0.000000</td>\n",
       "      <td>0.000000</td>\n",
       "      <td>0.000000</td>\n",
       "      <td>3.0</td>\n",
       "      <td>11.0</td>\n",
       "      <td>0.000000</td>\n",
       "    </tr>\n",
       "    <tr>\n",
       "      <th>50%</th>\n",
       "      <td>5458.500000</td>\n",
       "      <td>1970.000000</td>\n",
       "      <td>51381.500000</td>\n",
       "      <td>0.000000</td>\n",
       "      <td>0.000000</td>\n",
       "      <td>49.000000</td>\n",
       "      <td>173.500000</td>\n",
       "      <td>8.000000</td>\n",
       "      <td>67.000000</td>\n",
       "      <td>12.000000</td>\n",
       "      <td>...</td>\n",
       "      <td>6.000000</td>\n",
       "      <td>0.000000</td>\n",
       "      <td>0.000000</td>\n",
       "      <td>0.000000</td>\n",
       "      <td>0.000000</td>\n",
       "      <td>0.000000</td>\n",
       "      <td>0.000000</td>\n",
       "      <td>3.0</td>\n",
       "      <td>11.0</td>\n",
       "      <td>0.000000</td>\n",
       "    </tr>\n",
       "    <tr>\n",
       "      <th>75%</th>\n",
       "      <td>8427.750000</td>\n",
       "      <td>1977.000000</td>\n",
       "      <td>68522.000000</td>\n",
       "      <td>1.000000</td>\n",
       "      <td>1.000000</td>\n",
       "      <td>74.000000</td>\n",
       "      <td>504.250000</td>\n",
       "      <td>33.000000</td>\n",
       "      <td>232.000000</td>\n",
       "      <td>50.000000</td>\n",
       "      <td>...</td>\n",
       "      <td>7.000000</td>\n",
       "      <td>0.000000</td>\n",
       "      <td>0.000000</td>\n",
       "      <td>0.000000</td>\n",
       "      <td>0.000000</td>\n",
       "      <td>0.000000</td>\n",
       "      <td>0.000000</td>\n",
       "      <td>3.0</td>\n",
       "      <td>11.0</td>\n",
       "      <td>0.000000</td>\n",
       "    </tr>\n",
       "    <tr>\n",
       "      <th>max</th>\n",
       "      <td>11191.000000</td>\n",
       "      <td>1996.000000</td>\n",
       "      <td>666666.000000</td>\n",
       "      <td>2.000000</td>\n",
       "      <td>2.000000</td>\n",
       "      <td>99.000000</td>\n",
       "      <td>1493.000000</td>\n",
       "      <td>199.000000</td>\n",
       "      <td>1725.000000</td>\n",
       "      <td>259.000000</td>\n",
       "      <td>...</td>\n",
       "      <td>20.000000</td>\n",
       "      <td>1.000000</td>\n",
       "      <td>1.000000</td>\n",
       "      <td>1.000000</td>\n",
       "      <td>1.000000</td>\n",
       "      <td>1.000000</td>\n",
       "      <td>1.000000</td>\n",
       "      <td>3.0</td>\n",
       "      <td>11.0</td>\n",
       "      <td>1.000000</td>\n",
       "    </tr>\n",
       "  </tbody>\n",
       "</table>\n",
       "<p>8 rows × 26 columns</p>\n",
       "</div>"
      ],
      "text/plain": [
       "                 ID   Year_Birth         Income      Kidhome     Teenhome  \\\n",
       "count   2240.000000  2240.000000    2216.000000  2240.000000  2240.000000   \n",
       "mean    5592.159821  1968.805804   52247.251354     0.444196     0.506250   \n",
       "std     3246.662198    11.984069   25173.076661     0.538398     0.544538   \n",
       "min        0.000000  1893.000000    1730.000000     0.000000     0.000000   \n",
       "25%     2828.250000  1959.000000   35303.000000     0.000000     0.000000   \n",
       "50%     5458.500000  1970.000000   51381.500000     0.000000     0.000000   \n",
       "75%     8427.750000  1977.000000   68522.000000     1.000000     1.000000   \n",
       "max    11191.000000  1996.000000  666666.000000     2.000000     2.000000   \n",
       "\n",
       "           Recency     MntWines    MntFruits  MntMeatProducts  \\\n",
       "count  2240.000000  2240.000000  2240.000000      2240.000000   \n",
       "mean     49.109375   303.935714    26.302232       166.950000   \n",
       "std      28.962453   336.597393    39.773434       225.715373   \n",
       "min       0.000000     0.000000     0.000000         0.000000   \n",
       "25%      24.000000    23.750000     1.000000        16.000000   \n",
       "50%      49.000000   173.500000     8.000000        67.000000   \n",
       "75%      74.000000   504.250000    33.000000       232.000000   \n",
       "max      99.000000  1493.000000   199.000000      1725.000000   \n",
       "\n",
       "       MntFishProducts  ...  NumWebVisitsMonth  AcceptedCmp3  AcceptedCmp4  \\\n",
       "count      2240.000000  ...        2240.000000   2240.000000   2240.000000   \n",
       "mean         37.525446  ...           5.316518      0.072768      0.074554   \n",
       "std          54.628979  ...           2.426645      0.259813      0.262728   \n",
       "min           0.000000  ...           0.000000      0.000000      0.000000   \n",
       "25%           3.000000  ...           3.000000      0.000000      0.000000   \n",
       "50%          12.000000  ...           6.000000      0.000000      0.000000   \n",
       "75%          50.000000  ...           7.000000      0.000000      0.000000   \n",
       "max         259.000000  ...          20.000000      1.000000      1.000000   \n",
       "\n",
       "       AcceptedCmp5  AcceptedCmp1  AcceptedCmp2     Complain  Z_CostContact  \\\n",
       "count   2240.000000   2240.000000   2240.000000  2240.000000         2240.0   \n",
       "mean       0.072768      0.064286      0.013393     0.009375            3.0   \n",
       "std        0.259813      0.245316      0.114976     0.096391            0.0   \n",
       "min        0.000000      0.000000      0.000000     0.000000            3.0   \n",
       "25%        0.000000      0.000000      0.000000     0.000000            3.0   \n",
       "50%        0.000000      0.000000      0.000000     0.000000            3.0   \n",
       "75%        0.000000      0.000000      0.000000     0.000000            3.0   \n",
       "max        1.000000      1.000000      1.000000     1.000000            3.0   \n",
       "\n",
       "       Z_Revenue     Response  \n",
       "count     2240.0  2240.000000  \n",
       "mean        11.0     0.149107  \n",
       "std          0.0     0.356274  \n",
       "min         11.0     0.000000  \n",
       "25%         11.0     0.000000  \n",
       "50%         11.0     0.000000  \n",
       "75%         11.0     0.000000  \n",
       "max         11.0     1.000000  \n",
       "\n",
       "[8 rows x 26 columns]"
      ]
     },
     "execution_count": 5,
     "metadata": {},
     "output_type": "execute_result"
    }
   ],
   "source": [
    "marketingCampaign.describe()"
   ]
  },
  {
   "cell_type": "code",
   "execution_count": 6,
   "metadata": {},
   "outputs": [
    {
     "name": "stderr",
     "output_type": "stream",
     "text": [
      "C:\\Users\\Ashu\\anaconda3\\lib\\site-packages\\pandas\\io\\formats\\style.py:3554: RuntimeWarning: All-NaN slice encountered\n",
      "  smin = np.nanmin(gmap) if vmin is None else vmin\n",
      "C:\\Users\\Ashu\\anaconda3\\lib\\site-packages\\pandas\\io\\formats\\style.py:3555: RuntimeWarning: All-NaN slice encountered\n",
      "  smax = np.nanmax(gmap) if vmax is None else vmax\n"
     ]
    },
    {
     "data": {
      "text/html": [
       "<style type=\"text/css\">\n",
       "#T_8b53b_row0_col0, #T_8b53b_row1_col1, #T_8b53b_row2_col2, #T_8b53b_row3_col3, #T_8b53b_row4_col4, #T_8b53b_row5_col5, #T_8b53b_row6_col6, #T_8b53b_row7_col7, #T_8b53b_row8_col8, #T_8b53b_row9_col9, #T_8b53b_row10_col10, #T_8b53b_row11_col11, #T_8b53b_row12_col12, #T_8b53b_row13_col13, #T_8b53b_row14_col14, #T_8b53b_row15_col15, #T_8b53b_row16_col16, #T_8b53b_row17_col17, #T_8b53b_row18_col18, #T_8b53b_row19_col19, #T_8b53b_row20_col20, #T_8b53b_row21_col21, #T_8b53b_row22_col22, #T_8b53b_row25_col25 {\n",
       "  background-color: #006837;\n",
       "  color: #f1f1f1;\n",
       "}\n",
       "#T_8b53b_row0_col1, #T_8b53b_row0_col4, #T_8b53b_row9_col25, #T_8b53b_row14_col18 {\n",
       "  background-color: #f99355;\n",
       "  color: #000000;\n",
       "}\n",
       "#T_8b53b_row0_col2, #T_8b53b_row4_col15, #T_8b53b_row5_col8, #T_8b53b_row10_col20 {\n",
       "  background-color: #fece7c;\n",
       "  color: #000000;\n",
       "}\n",
       "#T_8b53b_row0_col3, #T_8b53b_row4_col6, #T_8b53b_row5_col15, #T_8b53b_row18_col16, #T_8b53b_row22_col8 {\n",
       "  background-color: #fdbf6f;\n",
       "  color: #000000;\n",
       "}\n",
       "#T_8b53b_row0_col5 {\n",
       "  background-color: #de402e;\n",
       "  color: #f1f1f1;\n",
       "}\n",
       "#T_8b53b_row0_col6, #T_8b53b_row5_col10, #T_8b53b_row15_col20, #T_8b53b_row18_col25 {\n",
       "  background-color: #fdb567;\n",
       "  color: #000000;\n",
       "}\n",
       "#T_8b53b_row0_col7, #T_8b53b_row2_col18, #T_8b53b_row15_col4, #T_8b53b_row17_col10 {\n",
       "  background-color: #fdad60;\n",
       "  color: #000000;\n",
       "}\n",
       "#T_8b53b_row0_col8, #T_8b53b_row17_col2, #T_8b53b_row17_col3, #T_8b53b_row18_col21 {\n",
       "  background-color: #fdc574;\n",
       "  color: #000000;\n",
       "}\n",
       "#T_8b53b_row0_col9, #T_8b53b_row0_col10, #T_8b53b_row5_col7, #T_8b53b_row13_col20, #T_8b53b_row13_col25, #T_8b53b_row18_col4, #T_8b53b_row21_col13, #T_8b53b_row22_col7, #T_8b53b_row25_col18 {\n",
       "  background-color: #fca85e;\n",
       "  color: #000000;\n",
       "}\n",
       "#T_8b53b_row0_col11, #T_8b53b_row1_col15, #T_8b53b_row7_col1, #T_8b53b_row10_col1, #T_8b53b_row21_col4 {\n",
       "  background-color: #f88c51;\n",
       "  color: #f1f1f1;\n",
       "}\n",
       "#T_8b53b_row0_col12, #T_8b53b_row11_col21, #T_8b53b_row21_col12 {\n",
       "  background-color: #dd3d2d;\n",
       "  color: #f1f1f1;\n",
       "}\n",
       "#T_8b53b_row0_col13, #T_8b53b_row1_col2, #T_8b53b_row22_col13 {\n",
       "  background-color: #f98e52;\n",
       "  color: #f1f1f1;\n",
       "}\n",
       "#T_8b53b_row0_col14, #T_8b53b_row3_col12, #T_8b53b_row5_col3, #T_8b53b_row5_col6, #T_8b53b_row5_col16 {\n",
       "  background-color: #fdc372;\n",
       "  color: #000000;\n",
       "}\n",
       "#T_8b53b_row0_col15, #T_8b53b_row22_col15 {\n",
       "  background-color: #fdb96a;\n",
       "  color: #000000;\n",
       "}\n",
       "#T_8b53b_row0_col16, #T_8b53b_row14_col25, #T_8b53b_row16_col1, #T_8b53b_row17_col11, #T_8b53b_row21_col16 {\n",
       "  background-color: #fdc776;\n",
       "  color: #000000;\n",
       "}\n",
       "#T_8b53b_row0_col17, #T_8b53b_row3_col9, #T_8b53b_row4_col0, #T_8b53b_row4_col22, #T_8b53b_row8_col0, #T_8b53b_row12_col21, #T_8b53b_row14_col0 {\n",
       "  background-color: #b91326;\n",
       "  color: #f1f1f1;\n",
       "}\n",
       "#T_8b53b_row0_col18, #T_8b53b_row16_col6, #T_8b53b_row19_col4 {\n",
       "  background-color: #dc3b2c;\n",
       "  color: #f1f1f1;\n",
       "}\n",
       "#T_8b53b_row0_col19, #T_8b53b_row1_col11, #T_8b53b_row11_col1, #T_8b53b_row12_col9, #T_8b53b_row12_col10, #T_8b53b_row15_col12 {\n",
       "  background-color: #f57547;\n",
       "  color: #f1f1f1;\n",
       "}\n",
       "#T_8b53b_row0_col20, #T_8b53b_row2_col1, #T_8b53b_row6_col1, #T_8b53b_row17_col21 {\n",
       "  background-color: #e34933;\n",
       "  color: #f1f1f1;\n",
       "}\n",
       "#T_8b53b_row0_col21, #T_8b53b_row2_col17, #T_8b53b_row4_col21 {\n",
       "  background-color: #c21c27;\n",
       "  color: #f1f1f1;\n",
       "}\n",
       "#T_8b53b_row0_col22, #T_8b53b_row1_col21, #T_8b53b_row3_col8, #T_8b53b_row4_col19, #T_8b53b_row7_col21, #T_8b53b_row8_col4, #T_8b53b_row9_col16, #T_8b53b_row16_col21 {\n",
       "  background-color: #c62027;\n",
       "  color: #f1f1f1;\n",
       "}\n",
       "#T_8b53b_row0_col23, #T_8b53b_row0_col24, #T_8b53b_row1_col23, #T_8b53b_row1_col24, #T_8b53b_row2_col23, #T_8b53b_row2_col24, #T_8b53b_row3_col23, #T_8b53b_row3_col24, #T_8b53b_row4_col23, #T_8b53b_row4_col24, #T_8b53b_row5_col23, #T_8b53b_row5_col24, #T_8b53b_row6_col23, #T_8b53b_row6_col24, #T_8b53b_row7_col23, #T_8b53b_row7_col24, #T_8b53b_row8_col23, #T_8b53b_row8_col24, #T_8b53b_row9_col23, #T_8b53b_row9_col24, #T_8b53b_row10_col23, #T_8b53b_row10_col24, #T_8b53b_row11_col23, #T_8b53b_row11_col24, #T_8b53b_row12_col23, #T_8b53b_row12_col24, #T_8b53b_row13_col23, #T_8b53b_row13_col24, #T_8b53b_row14_col23, #T_8b53b_row14_col24, #T_8b53b_row15_col23, #T_8b53b_row15_col24, #T_8b53b_row16_col23, #T_8b53b_row16_col24, #T_8b53b_row17_col23, #T_8b53b_row17_col24, #T_8b53b_row18_col23, #T_8b53b_row18_col24, #T_8b53b_row19_col23, #T_8b53b_row19_col24, #T_8b53b_row20_col23, #T_8b53b_row20_col24, #T_8b53b_row21_col23, #T_8b53b_row21_col24, #T_8b53b_row22_col23, #T_8b53b_row22_col24, #T_8b53b_row23_col0, #T_8b53b_row23_col1, #T_8b53b_row23_col2, #T_8b53b_row23_col3, #T_8b53b_row23_col4, #T_8b53b_row23_col5, #T_8b53b_row23_col6, #T_8b53b_row23_col7, #T_8b53b_row23_col8, #T_8b53b_row23_col9, #T_8b53b_row23_col10, #T_8b53b_row23_col11, #T_8b53b_row23_col12, #T_8b53b_row23_col13, #T_8b53b_row23_col14, #T_8b53b_row23_col15, #T_8b53b_row23_col16, #T_8b53b_row23_col17, #T_8b53b_row23_col18, #T_8b53b_row23_col19, #T_8b53b_row23_col20, #T_8b53b_row23_col21, #T_8b53b_row23_col22, #T_8b53b_row23_col23, #T_8b53b_row23_col24, #T_8b53b_row23_col25, #T_8b53b_row24_col0, #T_8b53b_row24_col1, #T_8b53b_row24_col2, #T_8b53b_row24_col3, #T_8b53b_row24_col4, #T_8b53b_row24_col5, #T_8b53b_row24_col6, #T_8b53b_row24_col7, #T_8b53b_row24_col8, #T_8b53b_row24_col9, #T_8b53b_row24_col10, #T_8b53b_row24_col11, #T_8b53b_row24_col12, #T_8b53b_row24_col13, #T_8b53b_row24_col14, #T_8b53b_row24_col15, #T_8b53b_row24_col16, #T_8b53b_row24_col17, #T_8b53b_row24_col18, #T_8b53b_row24_col19, #T_8b53b_row24_col20, #T_8b53b_row24_col21, #T_8b53b_row24_col22, #T_8b53b_row24_col23, #T_8b53b_row24_col24, #T_8b53b_row24_col25, #T_8b53b_row25_col23, #T_8b53b_row25_col24 {\n",
       "  background-color: #000000;\n",
       "  color: #f1f1f1;\n",
       "}\n",
       "#T_8b53b_row0_col25, #T_8b53b_row5_col20, #T_8b53b_row7_col18, #T_8b53b_row14_col12, #T_8b53b_row16_col5, #T_8b53b_row19_col17, #T_8b53b_row25_col4 {\n",
       "  background-color: #e44c34;\n",
       "  color: #f1f1f1;\n",
       "}\n",
       "#T_8b53b_row1_col0, #T_8b53b_row3_col0, #T_8b53b_row4_col20, #T_8b53b_row5_col17, #T_8b53b_row7_col12, #T_8b53b_row8_col3, #T_8b53b_row17_col22 {\n",
       "  background-color: #bb1526;\n",
       "  color: #f1f1f1;\n",
       "}\n",
       "#T_8b53b_row1_col3, #T_8b53b_row25_col14 {\n",
       "  background-color: #fffbb8;\n",
       "  color: #000000;\n",
       "}\n",
       "#T_8b53b_row1_col4, #T_8b53b_row2_col16, #T_8b53b_row3_col6, #T_8b53b_row3_col11, #T_8b53b_row3_col13, #T_8b53b_row3_col15, #T_8b53b_row3_col18, #T_8b53b_row3_col21, #T_8b53b_row4_col1, #T_8b53b_row5_col0, #T_8b53b_row5_col25, #T_8b53b_row6_col22, #T_8b53b_row14_col3, #T_8b53b_row15_col3, #T_8b53b_row16_col2, #T_8b53b_row16_col7, #T_8b53b_row16_col8, #T_8b53b_row16_col9, #T_8b53b_row16_col10, #T_8b53b_row16_col14, #T_8b53b_row16_col19, #T_8b53b_row16_col20, #T_8b53b_row18_col17, #T_8b53b_row19_col12, #T_8b53b_row25_col5 {\n",
       "  background-color: #a50026;\n",
       "  color: #f1f1f1;\n",
       "}\n",
       "#T_8b53b_row1_col5, #T_8b53b_row6_col16, #T_8b53b_row20_col5 {\n",
       "  background-color: #e54e35;\n",
       "  color: #f1f1f1;\n",
       "}\n",
       "#T_8b53b_row1_col6, #T_8b53b_row1_col19, #T_8b53b_row16_col13 {\n",
       "  background-color: #f67c4a;\n",
       "  color: #f1f1f1;\n",
       "}\n",
       "#T_8b53b_row1_col7, #T_8b53b_row1_col10, #T_8b53b_row11_col25, #T_8b53b_row22_col10 {\n",
       "  background-color: #fba35c;\n",
       "  color: #000000;\n",
       "}\n",
       "#T_8b53b_row1_col8, #T_8b53b_row22_col14 {\n",
       "  background-color: #fdbd6d;\n",
       "  color: #000000;\n",
       "}\n",
       "#T_8b53b_row1_col9, #T_8b53b_row17_col19, #T_8b53b_row19_col21, #T_8b53b_row21_col3, #T_8b53b_row25_col3 {\n",
       "  background-color: #fba05b;\n",
       "  color: #000000;\n",
       "}\n",
       "#T_8b53b_row1_col12, #T_8b53b_row11_col3 {\n",
       "  background-color: #d83128;\n",
       "  color: #f1f1f1;\n",
       "}\n",
       "#T_8b53b_row1_col13, #T_8b53b_row1_col20, #T_8b53b_row2_col21, #T_8b53b_row11_col18, #T_8b53b_row13_col5, #T_8b53b_row20_col4, #T_8b53b_row25_col12 {\n",
       "  background-color: #e75337;\n",
       "  color: #f1f1f1;\n",
       "}\n",
       "#T_8b53b_row1_col14, #T_8b53b_row6_col4, #T_8b53b_row10_col25, #T_8b53b_row22_col4 {\n",
       "  background-color: #fa9656;\n",
       "  color: #000000;\n",
       "}\n",
       "#T_8b53b_row1_col16, #T_8b53b_row18_col14 {\n",
       "  background-color: #feeb9d;\n",
       "  color: #000000;\n",
       "}\n",
       "#T_8b53b_row1_col17, #T_8b53b_row6_col17, #T_8b53b_row7_col4, #T_8b53b_row16_col17 {\n",
       "  background-color: #e0422f;\n",
       "  color: #f1f1f1;\n",
       "}\n",
       "#T_8b53b_row1_col18, #T_8b53b_row3_col17, #T_8b53b_row7_col3, #T_8b53b_row7_col16, #T_8b53b_row7_col17, #T_8b53b_row10_col3 {\n",
       "  background-color: #d02927;\n",
       "  color: #f1f1f1;\n",
       "}\n",
       "#T_8b53b_row1_col22, #T_8b53b_row2_col22, #T_8b53b_row8_col16, #T_8b53b_row11_col22, #T_8b53b_row12_col0, #T_8b53b_row15_col17, #T_8b53b_row17_col0, #T_8b53b_row18_col22 {\n",
       "  background-color: #a90426;\n",
       "  color: #f1f1f1;\n",
       "}\n",
       "#T_8b53b_row1_col25, #T_8b53b_row4_col8, #T_8b53b_row4_col10, #T_8b53b_row18_col5 {\n",
       "  background-color: #ee613e;\n",
       "  color: #f1f1f1;\n",
       "}\n",
       "#T_8b53b_row2_col0, #T_8b53b_row3_col19, #T_8b53b_row12_col20, #T_8b53b_row16_col22 {\n",
       "  background-color: #c01a27;\n",
       "  color: #f1f1f1;\n",
       "}\n",
       "#T_8b53b_row2_col3, #T_8b53b_row5_col22, #T_8b53b_row7_col0, #T_8b53b_row16_col15, #T_8b53b_row20_col12 {\n",
       "  background-color: #bd1726;\n",
       "  color: #f1f1f1;\n",
       "}\n",
       "#T_8b53b_row2_col4, #T_8b53b_row2_col25, #T_8b53b_row18_col11, #T_8b53b_row25_col1 {\n",
       "  background-color: #fb9d59;\n",
       "  color: #000000;\n",
       "}\n",
       "#T_8b53b_row2_col5, #T_8b53b_row7_col5, #T_8b53b_row10_col18, #T_8b53b_row16_col25, #T_8b53b_row20_col17 {\n",
       "  background-color: #e95538;\n",
       "  color: #f1f1f1;\n",
       "}\n",
       "#T_8b53b_row2_col6, #T_8b53b_row6_col8 {\n",
       "  background-color: #9bd469;\n",
       "  color: #000000;\n",
       "}\n",
       "#T_8b53b_row2_col7, #T_8b53b_row9_col6, #T_8b53b_row11_col9 {\n",
       "  background-color: #d9ef8b;\n",
       "  color: #000000;\n",
       "}\n",
       "#T_8b53b_row2_col8, #T_8b53b_row2_col14, #T_8b53b_row6_col2 {\n",
       "  background-color: #93d168;\n",
       "  color: #000000;\n",
       "}\n",
       "#T_8b53b_row2_col9, #T_8b53b_row15_col10 {\n",
       "  background-color: #d3ec87;\n",
       "  color: #000000;\n",
       "}\n",
       "#T_8b53b_row2_col10, #T_8b53b_row13_col2 {\n",
       "  background-color: #d5ed88;\n",
       "  color: #000000;\n",
       "}\n",
       "#T_8b53b_row2_col11 {\n",
       "  background-color: #feffbe;\n",
       "  color: #000000;\n",
       "}\n",
       "#T_8b53b_row2_col12, #T_8b53b_row10_col16, #T_8b53b_row10_col21 {\n",
       "  background-color: #ce2827;\n",
       "  color: #f1f1f1;\n",
       "}\n",
       "#T_8b53b_row2_col13, #T_8b53b_row7_col11, #T_8b53b_row12_col4 {\n",
       "  background-color: #ecf7a6;\n",
       "  color: #000000;\n",
       "}\n",
       "#T_8b53b_row2_col15 {\n",
       "  background-color: #addc6f;\n",
       "  color: #000000;\n",
       "}\n",
       "#T_8b53b_row2_col19, #T_8b53b_row19_col10 {\n",
       "  background-color: #fff8b4;\n",
       "  color: #000000;\n",
       "}\n",
       "#T_8b53b_row2_col20, #T_8b53b_row19_col11, #T_8b53b_row21_col18, #T_8b53b_row21_col19 {\n",
       "  background-color: #fedc88;\n",
       "  color: #000000;\n",
       "}\n",
       "#T_8b53b_row3_col1, #T_8b53b_row20_col7 {\n",
       "  background-color: #feea9b;\n",
       "  color: #000000;\n",
       "}\n",
       "#T_8b53b_row3_col2, #T_8b53b_row15_col16, #T_8b53b_row22_col17 {\n",
       "  background-color: #cc2627;\n",
       "  color: #f1f1f1;\n",
       "}\n",
       "#T_8b53b_row3_col4, #T_8b53b_row20_col16, #T_8b53b_row25_col21 {\n",
       "  background-color: #f7814c;\n",
       "  color: #f1f1f1;\n",
       "}\n",
       "#T_8b53b_row3_col5, #T_8b53b_row4_col18 {\n",
       "  background-color: #ec5c3b;\n",
       "  color: #f1f1f1;\n",
       "}\n",
       "#T_8b53b_row3_col7, #T_8b53b_row4_col17, #T_8b53b_row7_col22, #T_8b53b_row11_col0 {\n",
       "  background-color: #b50f26;\n",
       "  color: #f1f1f1;\n",
       "}\n",
       "#T_8b53b_row3_col10, #T_8b53b_row4_col25, #T_8b53b_row9_col12, #T_8b53b_row10_col0, #T_8b53b_row12_col22, #T_8b53b_row16_col0, #T_8b53b_row19_col0, #T_8b53b_row25_col22 {\n",
       "  background-color: #b71126;\n",
       "  color: #f1f1f1;\n",
       "}\n",
       "#T_8b53b_row3_col14, #T_8b53b_row8_col22, #T_8b53b_row20_col22 {\n",
       "  background-color: #ab0626;\n",
       "  color: #f1f1f1;\n",
       "}\n",
       "#T_8b53b_row3_col16, #T_8b53b_row7_col15, #T_8b53b_row14_col10 {\n",
       "  background-color: #c3e67d;\n",
       "  color: #000000;\n",
       "}\n",
       "#T_8b53b_row3_col20, #T_8b53b_row9_col22, #T_8b53b_row10_col22, #T_8b53b_row14_col22 {\n",
       "  background-color: #ad0826;\n",
       "  color: #f1f1f1;\n",
       "}\n",
       "#T_8b53b_row3_col22, #T_8b53b_row9_col3, #T_8b53b_row9_col21, #T_8b53b_row10_col17, #T_8b53b_row12_col19, #T_8b53b_row22_col0 {\n",
       "  background-color: #ca2427;\n",
       "  color: #f1f1f1;\n",
       "}\n",
       "#T_8b53b_row3_col25 {\n",
       "  background-color: #d62f27;\n",
       "  color: #f1f1f1;\n",
       "}\n",
       "#T_8b53b_row4_col2, #T_8b53b_row19_col13, #T_8b53b_row22_col16 {\n",
       "  background-color: #fed07e;\n",
       "  color: #000000;\n",
       "}\n",
       "#T_8b53b_row4_col3, #T_8b53b_row5_col9, #T_8b53b_row17_col9, #T_8b53b_row21_col9, #T_8b53b_row25_col17 {\n",
       "  background-color: #fdb365;\n",
       "  color: #000000;\n",
       "}\n",
       "#T_8b53b_row4_col5, #T_8b53b_row6_col5, #T_8b53b_row11_col5, #T_8b53b_row14_col4, #T_8b53b_row19_col16, #T_8b53b_row22_col5 {\n",
       "  background-color: #ed5f3c;\n",
       "  color: #f1f1f1;\n",
       "}\n",
       "#T_8b53b_row4_col7, #T_8b53b_row14_col1, #T_8b53b_row14_col17, #T_8b53b_row18_col12 {\n",
       "  background-color: #eb5a3a;\n",
       "  color: #f1f1f1;\n",
       "}\n",
       "#T_8b53b_row4_col9, #T_8b53b_row6_col12, #T_8b53b_row9_col5, #T_8b53b_row12_col5, #T_8b53b_row12_col25, #T_8b53b_row14_col21, #T_8b53b_row15_col1, #T_8b53b_row15_col5, #T_8b53b_row19_col5, #T_8b53b_row21_col5, #T_8b53b_row22_col25 {\n",
       "  background-color: #ea5739;\n",
       "  color: #f1f1f1;\n",
       "}\n",
       "#T_8b53b_row4_col11, #T_8b53b_row5_col1, #T_8b53b_row11_col4 {\n",
       "  background-color: #f88950;\n",
       "  color: #f1f1f1;\n",
       "}\n",
       "#T_8b53b_row4_col12, #T_8b53b_row7_col13, #T_8b53b_row8_col13, #T_8b53b_row9_col13, #T_8b53b_row12_col3 {\n",
       "  background-color: #fffab6;\n",
       "  color: #000000;\n",
       "}\n",
       "#T_8b53b_row4_col13, #T_8b53b_row9_col20, #T_8b53b_row12_col15, #T_8b53b_row18_col13, #T_8b53b_row20_col11, #T_8b53b_row20_col13, #T_8b53b_row25_col10 {\n",
       "  background-color: #fed683;\n",
       "  color: #000000;\n",
       "}\n",
       "#T_8b53b_row4_col14, #T_8b53b_row6_col21, #T_8b53b_row19_col1 {\n",
       "  background-color: #fa9857;\n",
       "  color: #000000;\n",
       "}\n",
       "#T_8b53b_row4_col16, #T_8b53b_row25_col2 {\n",
       "  background-color: #feeda1;\n",
       "  color: #000000;\n",
       "}\n",
       "#T_8b53b_row5_col2, #T_8b53b_row13_col12, #T_8b53b_row20_col18, #T_8b53b_row25_col16 {\n",
       "  background-color: #fec877;\n",
       "  color: #000000;\n",
       "}\n",
       "#T_8b53b_row5_col4, #T_8b53b_row5_col11, #T_8b53b_row7_col25, #T_8b53b_row12_col8, #T_8b53b_row13_col18 {\n",
       "  background-color: #fa9b58;\n",
       "  color: #000000;\n",
       "}\n",
       "#T_8b53b_row5_col12, #T_8b53b_row5_col18, #T_8b53b_row9_col18, #T_8b53b_row12_col18, #T_8b53b_row13_col1, #T_8b53b_row15_col21, #T_8b53b_row22_col12 {\n",
       "  background-color: #e65036;\n",
       "  color: #f1f1f1;\n",
       "}\n",
       "#T_8b53b_row5_col13, #T_8b53b_row20_col1, #T_8b53b_row21_col1 {\n",
       "  background-color: #f99153;\n",
       "  color: #000000;\n",
       "}\n",
       "#T_8b53b_row5_col14, #T_8b53b_row11_col19 {\n",
       "  background-color: #feca79;\n",
       "  color: #000000;\n",
       "}\n",
       "#T_8b53b_row5_col19, #T_8b53b_row12_col1, #T_8b53b_row18_col1 {\n",
       "  background-color: #f57748;\n",
       "  color: #f1f1f1;\n",
       "}\n",
       "#T_8b53b_row5_col21, #T_8b53b_row9_col17, #T_8b53b_row16_col11, #T_8b53b_row17_col18 {\n",
       "  background-color: #c82227;\n",
       "  color: #f1f1f1;\n",
       "}\n",
       "#T_8b53b_row6_col0, #T_8b53b_row9_col0, #T_8b53b_row13_col22, #T_8b53b_row14_col16, #T_8b53b_row15_col22, #T_8b53b_row18_col0 {\n",
       "  background-color: #af0926;\n",
       "  color: #f1f1f1;\n",
       "}\n",
       "#T_8b53b_row6_col3 {\n",
       "  background-color: #a70226;\n",
       "  color: #f1f1f1;\n",
       "}\n",
       "#T_8b53b_row6_col7, #T_8b53b_row6_col10, #T_8b53b_row20_col6 {\n",
       "  background-color: #e5f49b;\n",
       "  color: #000000;\n",
       "}\n",
       "#T_8b53b_row6_col9, #T_8b53b_row14_col11 {\n",
       "  background-color: #dff293;\n",
       "  color: #000000;\n",
       "}\n",
       "#T_8b53b_row6_col11, #T_8b53b_row14_col13, #T_8b53b_row20_col14 {\n",
       "  background-color: #eef8a8;\n",
       "  color: #000000;\n",
       "}\n",
       "#T_8b53b_row6_col13, #T_8b53b_row7_col14, #T_8b53b_row15_col8 {\n",
       "  background-color: #b9e176;\n",
       "  color: #000000;\n",
       "}\n",
       "#T_8b53b_row6_col14, #T_8b53b_row6_col15, #T_8b53b_row15_col6 {\n",
       "  background-color: #7fc866;\n",
       "  color: #000000;\n",
       "}\n",
       "#T_8b53b_row6_col18, #T_8b53b_row6_col20, #T_8b53b_row18_col19 {\n",
       "  background-color: #fff2aa;\n",
       "  color: #000000;\n",
       "}\n",
       "#T_8b53b_row6_col19, #T_8b53b_row11_col15 {\n",
       "  background-color: #ddf191;\n",
       "  color: #000000;\n",
       "}\n",
       "#T_8b53b_row6_col25, #T_8b53b_row9_col19, #T_8b53b_row17_col6, #T_8b53b_row18_col20, #T_8b53b_row25_col13 {\n",
       "  background-color: #fed27f;\n",
       "  color: #000000;\n",
       "}\n",
       "#T_8b53b_row7_col2, #T_8b53b_row15_col13 {\n",
       "  background-color: #c7e77f;\n",
       "  color: #000000;\n",
       "}\n",
       "#T_8b53b_row7_col6, #T_8b53b_row10_col6, #T_8b53b_row11_col6, #T_8b53b_row13_col14, #T_8b53b_row19_col8 {\n",
       "  background-color: #dcf08f;\n",
       "  color: #000000;\n",
       "}\n",
       "#T_8b53b_row7_col8, #T_8b53b_row9_col10 {\n",
       "  background-color: #a2d76a;\n",
       "  color: #000000;\n",
       "}\n",
       "#T_8b53b_row7_col9, #T_8b53b_row9_col8 {\n",
       "  background-color: #98d368;\n",
       "  color: #000000;\n",
       "}\n",
       "#T_8b53b_row7_col10, #T_8b53b_row15_col2 {\n",
       "  background-color: #a7d96b;\n",
       "  color: #000000;\n",
       "}\n",
       "#T_8b53b_row7_col19, #T_8b53b_row15_col19, #T_8b53b_row25_col7, #T_8b53b_row25_col9 {\n",
       "  background-color: #fed884;\n",
       "  color: #000000;\n",
       "}\n",
       "#T_8b53b_row7_col20, #T_8b53b_row13_col19 {\n",
       "  background-color: #fdbb6c;\n",
       "  color: #000000;\n",
       "}\n",
       "#T_8b53b_row8_col1, #T_8b53b_row20_col21, #T_8b53b_row22_col1, #T_8b53b_row22_col11 {\n",
       "  background-color: #f7844e;\n",
       "  color: #f1f1f1;\n",
       "}\n",
       "#T_8b53b_row8_col2 {\n",
       "  background-color: #91d068;\n",
       "  color: #000000;\n",
       "}\n",
       "#T_8b53b_row8_col5, #T_8b53b_row10_col5, #T_8b53b_row14_col5 {\n",
       "  background-color: #ef633f;\n",
       "  color: #f1f1f1;\n",
       "}\n",
       "#T_8b53b_row8_col6, #T_8b53b_row10_col9 {\n",
       "  background-color: #a0d669;\n",
       "  color: #000000;\n",
       "}\n",
       "#T_8b53b_row8_col7, #T_8b53b_row14_col9, #T_8b53b_row14_col15 {\n",
       "  background-color: #b1de71;\n",
       "  color: #000000;\n",
       "}\n",
       "#T_8b53b_row8_col9 {\n",
       "  background-color: #a5d86a;\n",
       "  color: #000000;\n",
       "}\n",
       "#T_8b53b_row8_col10, #T_8b53b_row10_col14 {\n",
       "  background-color: #b7e075;\n",
       "  color: #000000;\n",
       "}\n",
       "#T_8b53b_row8_col11 {\n",
       "  background-color: #f8fcb6;\n",
       "  color: #000000;\n",
       "}\n",
       "#T_8b53b_row8_col12, #T_8b53b_row10_col12, #T_8b53b_row12_col17 {\n",
       "  background-color: #be1827;\n",
       "  color: #f1f1f1;\n",
       "}\n",
       "#T_8b53b_row8_col14 {\n",
       "  background-color: #57b65f;\n",
       "  color: #f1f1f1;\n",
       "}\n",
       "#T_8b53b_row8_col15 {\n",
       "  background-color: #bde379;\n",
       "  color: #000000;\n",
       "}\n",
       "#T_8b53b_row8_col17, #T_8b53b_row13_col3 {\n",
       "  background-color: #d22b27;\n",
       "  color: #f1f1f1;\n",
       "}\n",
       "#T_8b53b_row8_col18, #T_8b53b_row9_col1, #T_8b53b_row17_col4, #T_8b53b_row18_col3 {\n",
       "  background-color: #f67f4b;\n",
       "  color: #f1f1f1;\n",
       "}\n",
       "#T_8b53b_row8_col19, #T_8b53b_row13_col9 {\n",
       "  background-color: #fbfdba;\n",
       "  color: #000000;\n",
       "}\n",
       "#T_8b53b_row8_col20, #T_8b53b_row10_col19, #T_8b53b_row14_col20 {\n",
       "  background-color: #fee695;\n",
       "  color: #000000;\n",
       "}\n",
       "#T_8b53b_row8_col21, #T_8b53b_row22_col18 {\n",
       "  background-color: #db382b;\n",
       "  color: #f1f1f1;\n",
       "}\n",
       "#T_8b53b_row8_col25, #T_8b53b_row16_col4, #T_8b53b_row17_col8, #T_8b53b_row22_col3, #T_8b53b_row25_col11, #T_8b53b_row25_col15 {\n",
       "  background-color: #fecc7b;\n",
       "  color: #000000;\n",
       "}\n",
       "#T_8b53b_row9_col2, #T_8b53b_row9_col15, #T_8b53b_row10_col2, #T_8b53b_row14_col7 {\n",
       "  background-color: #c5e67e;\n",
       "  color: #000000;\n",
       "}\n",
       "#T_8b53b_row9_col4, #T_8b53b_row13_col17, #T_8b53b_row16_col18 {\n",
       "  background-color: #da362a;\n",
       "  color: #f1f1f1;\n",
       "}\n",
       "#T_8b53b_row9_col7 {\n",
       "  background-color: #9dd569;\n",
       "  color: #000000;\n",
       "}\n",
       "#T_8b53b_row9_col11, #T_8b53b_row11_col7, #T_8b53b_row13_col11, #T_8b53b_row19_col2 {\n",
       "  background-color: #e3f399;\n",
       "  color: #000000;\n",
       "}\n",
       "#T_8b53b_row9_col14, #T_8b53b_row10_col7, #T_8b53b_row13_col6 {\n",
       "  background-color: #a9da6c;\n",
       "  color: #000000;\n",
       "}\n",
       "#T_8b53b_row10_col4, #T_8b53b_row17_col5, #T_8b53b_row21_col17, #T_8b53b_row22_col20 {\n",
       "  background-color: #e24731;\n",
       "  color: #f1f1f1;\n",
       "}\n",
       "#T_8b53b_row10_col8 {\n",
       "  background-color: #abdb6d;\n",
       "  color: #000000;\n",
       "}\n",
       "#T_8b53b_row10_col11, #T_8b53b_row20_col2, #T_8b53b_row20_col19 {\n",
       "  background-color: #f2faae;\n",
       "  color: #000000;\n",
       "}\n",
       "#T_8b53b_row10_col13 {\n",
       "  background-color: #f7fcb4;\n",
       "  color: #000000;\n",
       "}\n",
       "#T_8b53b_row10_col15, #T_8b53b_row11_col14, #T_8b53b_row16_col3 {\n",
       "  background-color: #c9e881;\n",
       "  color: #000000;\n",
       "}\n",
       "#T_8b53b_row11_col2 {\n",
       "  background-color: #e6f59d;\n",
       "  color: #000000;\n",
       "}\n",
       "#T_8b53b_row11_col8, #T_8b53b_row12_col16, #T_8b53b_row18_col6 {\n",
       "  background-color: #e0f295;\n",
       "  color: #000000;\n",
       "}\n",
       "#T_8b53b_row11_col10 {\n",
       "  background-color: #e9f6a1;\n",
       "  color: #000000;\n",
       "}\n",
       "#T_8b53b_row11_col12, #T_8b53b_row15_col25, #T_8b53b_row19_col3 {\n",
       "  background-color: #f36b42;\n",
       "  color: #f1f1f1;\n",
       "}\n",
       "#T_8b53b_row11_col13 {\n",
       "  background-color: #e2f397;\n",
       "  color: #000000;\n",
       "}\n",
       "#T_8b53b_row11_col16 {\n",
       "  background-color: #f26841;\n",
       "  color: #f1f1f1;\n",
       "}\n",
       "#T_8b53b_row11_col17 {\n",
       "  background-color: #f16640;\n",
       "  color: #f1f1f1;\n",
       "}\n",
       "#T_8b53b_row11_col20, #T_8b53b_row12_col2, #T_8b53b_row18_col7, #T_8b53b_row21_col10 {\n",
       "  background-color: #fdaf62;\n",
       "  color: #000000;\n",
       "}\n",
       "#T_8b53b_row12_col6, #T_8b53b_row12_col14, #T_8b53b_row22_col2 {\n",
       "  background-color: #fdc171;\n",
       "  color: #000000;\n",
       "}\n",
       "#T_8b53b_row12_col7 {\n",
       "  background-color: #f46d43;\n",
       "  color: #f1f1f1;\n",
       "}\n",
       "#T_8b53b_row12_col11, #T_8b53b_row15_col18, #T_8b53b_row17_col13, #T_8b53b_row21_col11, #T_8b53b_row22_col9 {\n",
       "  background-color: #fcaa5f;\n",
       "  color: #000000;\n",
       "}\n",
       "#T_8b53b_row12_col13, #T_8b53b_row19_col25 {\n",
       "  background-color: #feec9f;\n",
       "  color: #000000;\n",
       "}\n",
       "#T_8b53b_row13_col0, #T_8b53b_row20_col0, #T_8b53b_row21_col22, #T_8b53b_row25_col0 {\n",
       "  background-color: #b10b26;\n",
       "  color: #f1f1f1;\n",
       "}\n",
       "#T_8b53b_row13_col4, #T_8b53b_row17_col25, #T_8b53b_row21_col8 {\n",
       "  background-color: #fed481;\n",
       "  color: #000000;\n",
       "}\n",
       "#T_8b53b_row13_col7, #T_8b53b_row25_col8 {\n",
       "  background-color: #fdfebc;\n",
       "  color: #000000;\n",
       "}\n",
       "#T_8b53b_row13_col8, #T_8b53b_row13_col10, #T_8b53b_row15_col11 {\n",
       "  background-color: #eff8aa;\n",
       "  color: #000000;\n",
       "}\n",
       "#T_8b53b_row13_col15 {\n",
       "  background-color: #b5df74;\n",
       "  color: #000000;\n",
       "}\n",
       "#T_8b53b_row13_col16, #T_8b53b_row18_col9, #T_8b53b_row18_col10 {\n",
       "  background-color: #fdb768;\n",
       "  color: #000000;\n",
       "}\n",
       "#T_8b53b_row13_col21 {\n",
       "  background-color: #d93429;\n",
       "  color: #f1f1f1;\n",
       "}\n",
       "#T_8b53b_row14_col2 {\n",
       "  background-color: #8ecf67;\n",
       "  color: #000000;\n",
       "}\n",
       "#T_8b53b_row14_col6 {\n",
       "  background-color: #82c966;\n",
       "  color: #000000;\n",
       "}\n",
       "#T_8b53b_row14_col8 {\n",
       "  background-color: #54b45f;\n",
       "  color: #f1f1f1;\n",
       "}\n",
       "#T_8b53b_row14_col19, #T_8b53b_row21_col6 {\n",
       "  background-color: #fff6b0;\n",
       "  color: #000000;\n",
       "}\n",
       "#T_8b53b_row15_col0, #T_8b53b_row19_col22, #T_8b53b_row21_col0 {\n",
       "  background-color: #b30d26;\n",
       "  color: #f1f1f1;\n",
       "}\n",
       "#T_8b53b_row15_col7 {\n",
       "  background-color: #cfeb85;\n",
       "  color: #000000;\n",
       "}\n",
       "#T_8b53b_row15_col9 {\n",
       "  background-color: #cbe982;\n",
       "  color: #000000;\n",
       "}\n",
       "#T_8b53b_row15_col14 {\n",
       "  background-color: #afdd70;\n",
       "  color: #000000;\n",
       "}\n",
       "#T_8b53b_row16_col12, #T_8b53b_row19_col7, #T_8b53b_row19_col9 {\n",
       "  background-color: #feefa3;\n",
       "  color: #000000;\n",
       "}\n",
       "#T_8b53b_row17_col1, #T_8b53b_row17_col7, #T_8b53b_row21_col20, #T_8b53b_row21_col25, #T_8b53b_row22_col6 {\n",
       "  background-color: #fdb163;\n",
       "  color: #000000;\n",
       "}\n",
       "#T_8b53b_row17_col12 {\n",
       "  background-color: #e14430;\n",
       "  color: #f1f1f1;\n",
       "}\n",
       "#T_8b53b_row17_col14, #T_8b53b_row20_col25, #T_8b53b_row21_col2 {\n",
       "  background-color: #fee491;\n",
       "  color: #000000;\n",
       "}\n",
       "#T_8b53b_row17_col15, #T_8b53b_row21_col7 {\n",
       "  background-color: #fca55d;\n",
       "  color: #000000;\n",
       "}\n",
       "#T_8b53b_row17_col16 {\n",
       "  background-color: #fede89;\n",
       "  color: #000000;\n",
       "}\n",
       "#T_8b53b_row17_col20 {\n",
       "  background-color: #f8864f;\n",
       "  color: #f1f1f1;\n",
       "}\n",
       "#T_8b53b_row18_col2, #T_8b53b_row19_col15, #T_8b53b_row25_col19 {\n",
       "  background-color: #fff7b2;\n",
       "  color: #000000;\n",
       "}\n",
       "#T_8b53b_row18_col8 {\n",
       "  background-color: #fee593;\n",
       "  color: #000000;\n",
       "}\n",
       "#T_8b53b_row18_col15 {\n",
       "  background-color: #fff0a6;\n",
       "  color: #000000;\n",
       "}\n",
       "#T_8b53b_row19_col6 {\n",
       "  background-color: #c1e57b;\n",
       "  color: #000000;\n",
       "}\n",
       "#T_8b53b_row19_col14, #T_8b53b_row20_col8 {\n",
       "  background-color: #ebf7a3;\n",
       "  color: #000000;\n",
       "}\n",
       "#T_8b53b_row19_col18 {\n",
       "  background-color: #fee18d;\n",
       "  color: #000000;\n",
       "}\n",
       "#T_8b53b_row19_col20, #T_8b53b_row25_col6 {\n",
       "  background-color: #fffebe;\n",
       "  color: #000000;\n",
       "}\n",
       "#T_8b53b_row20_col3 {\n",
       "  background-color: #f67a49;\n",
       "  color: #f1f1f1;\n",
       "}\n",
       "#T_8b53b_row20_col9 {\n",
       "  background-color: #fffcba;\n",
       "  color: #000000;\n",
       "}\n",
       "#T_8b53b_row20_col10 {\n",
       "  background-color: #fff5ae;\n",
       "  color: #000000;\n",
       "}\n",
       "#T_8b53b_row20_col15 {\n",
       "  background-color: #fff1a8;\n",
       "  color: #000000;\n",
       "}\n",
       "#T_8b53b_row21_col14, #T_8b53b_row25_col20 {\n",
       "  background-color: #fee28f;\n",
       "  color: #000000;\n",
       "}\n",
       "#T_8b53b_row21_col15 {\n",
       "  background-color: #feda86;\n",
       "  color: #000000;\n",
       "}\n",
       "#T_8b53b_row22_col19 {\n",
       "  background-color: #f57245;\n",
       "  color: #f1f1f1;\n",
       "}\n",
       "#T_8b53b_row22_col21 {\n",
       "  background-color: #c41e27;\n",
       "  color: #f1f1f1;\n",
       "}\n",
       "</style>\n",
       "<table id=\"T_8b53b\">\n",
       "  <thead>\n",
       "    <tr>\n",
       "      <th class=\"blank level0\" >&nbsp;</th>\n",
       "      <th id=\"T_8b53b_level0_col0\" class=\"col_heading level0 col0\" >ID</th>\n",
       "      <th id=\"T_8b53b_level0_col1\" class=\"col_heading level0 col1\" >Year_Birth</th>\n",
       "      <th id=\"T_8b53b_level0_col2\" class=\"col_heading level0 col2\" >Income</th>\n",
       "      <th id=\"T_8b53b_level0_col3\" class=\"col_heading level0 col3\" >Kidhome</th>\n",
       "      <th id=\"T_8b53b_level0_col4\" class=\"col_heading level0 col4\" >Teenhome</th>\n",
       "      <th id=\"T_8b53b_level0_col5\" class=\"col_heading level0 col5\" >Recency</th>\n",
       "      <th id=\"T_8b53b_level0_col6\" class=\"col_heading level0 col6\" >MntWines</th>\n",
       "      <th id=\"T_8b53b_level0_col7\" class=\"col_heading level0 col7\" >MntFruits</th>\n",
       "      <th id=\"T_8b53b_level0_col8\" class=\"col_heading level0 col8\" >MntMeatProducts</th>\n",
       "      <th id=\"T_8b53b_level0_col9\" class=\"col_heading level0 col9\" >MntFishProducts</th>\n",
       "      <th id=\"T_8b53b_level0_col10\" class=\"col_heading level0 col10\" >MntSweetProducts</th>\n",
       "      <th id=\"T_8b53b_level0_col11\" class=\"col_heading level0 col11\" >MntGoldProds</th>\n",
       "      <th id=\"T_8b53b_level0_col12\" class=\"col_heading level0 col12\" >NumDealsPurchases</th>\n",
       "      <th id=\"T_8b53b_level0_col13\" class=\"col_heading level0 col13\" >NumWebPurchases</th>\n",
       "      <th id=\"T_8b53b_level0_col14\" class=\"col_heading level0 col14\" >NumCatalogPurchases</th>\n",
       "      <th id=\"T_8b53b_level0_col15\" class=\"col_heading level0 col15\" >NumStorePurchases</th>\n",
       "      <th id=\"T_8b53b_level0_col16\" class=\"col_heading level0 col16\" >NumWebVisitsMonth</th>\n",
       "      <th id=\"T_8b53b_level0_col17\" class=\"col_heading level0 col17\" >AcceptedCmp3</th>\n",
       "      <th id=\"T_8b53b_level0_col18\" class=\"col_heading level0 col18\" >AcceptedCmp4</th>\n",
       "      <th id=\"T_8b53b_level0_col19\" class=\"col_heading level0 col19\" >AcceptedCmp5</th>\n",
       "      <th id=\"T_8b53b_level0_col20\" class=\"col_heading level0 col20\" >AcceptedCmp1</th>\n",
       "      <th id=\"T_8b53b_level0_col21\" class=\"col_heading level0 col21\" >AcceptedCmp2</th>\n",
       "      <th id=\"T_8b53b_level0_col22\" class=\"col_heading level0 col22\" >Complain</th>\n",
       "      <th id=\"T_8b53b_level0_col23\" class=\"col_heading level0 col23\" >Z_CostContact</th>\n",
       "      <th id=\"T_8b53b_level0_col24\" class=\"col_heading level0 col24\" >Z_Revenue</th>\n",
       "      <th id=\"T_8b53b_level0_col25\" class=\"col_heading level0 col25\" >Response</th>\n",
       "    </tr>\n",
       "  </thead>\n",
       "  <tbody>\n",
       "    <tr>\n",
       "      <th id=\"T_8b53b_level0_row0\" class=\"row_heading level0 row0\" >ID</th>\n",
       "      <td id=\"T_8b53b_row0_col0\" class=\"data row0 col0\" >1.000000</td>\n",
       "      <td id=\"T_8b53b_row0_col1\" class=\"data row0 col1\" >0.000028</td>\n",
       "      <td id=\"T_8b53b_row0_col2\" class=\"data row0 col2\" >0.013095</td>\n",
       "      <td id=\"T_8b53b_row0_col3\" class=\"data row0 col3\" >0.002406</td>\n",
       "      <td id=\"T_8b53b_row0_col4\" class=\"data row0 col4\" >-0.002580</td>\n",
       "      <td id=\"T_8b53b_row0_col5\" class=\"data row0 col5\" >-0.046524</td>\n",
       "      <td id=\"T_8b53b_row0_col6\" class=\"data row0 col6\" >-0.022878</td>\n",
       "      <td id=\"T_8b53b_row0_col7\" class=\"data row0 col7\" >0.004600</td>\n",
       "      <td id=\"T_8b53b_row0_col8\" class=\"data row0 col8\" >-0.004437</td>\n",
       "      <td id=\"T_8b53b_row0_col9\" class=\"data row0 col9\" >-0.024475</td>\n",
       "      <td id=\"T_8b53b_row0_col10\" class=\"data row0 col10\" >-0.007642</td>\n",
       "      <td id=\"T_8b53b_row0_col11\" class=\"data row0 col11\" >-0.013438</td>\n",
       "      <td id=\"T_8b53b_row0_col12\" class=\"data row0 col12\" >-0.037166</td>\n",
       "      <td id=\"T_8b53b_row0_col13\" class=\"data row0 col13\" >-0.018924</td>\n",
       "      <td id=\"T_8b53b_row0_col14\" class=\"data row0 col14\" >-0.003440</td>\n",
       "      <td id=\"T_8b53b_row0_col15\" class=\"data row0 col15\" >-0.014927</td>\n",
       "      <td id=\"T_8b53b_row0_col16\" class=\"data row0 col16\" >-0.007446</td>\n",
       "      <td id=\"T_8b53b_row0_col17\" class=\"data row0 col17\" >-0.036040</td>\n",
       "      <td id=\"T_8b53b_row0_col18\" class=\"data row0 col18\" >-0.025387</td>\n",
       "      <td id=\"T_8b53b_row0_col19\" class=\"data row0 col19\" >-0.007517</td>\n",
       "      <td id=\"T_8b53b_row0_col20\" class=\"data row0 col20\" >-0.021614</td>\n",
       "      <td id=\"T_8b53b_row0_col21\" class=\"data row0 col21\" >-0.015061</td>\n",
       "      <td id=\"T_8b53b_row0_col22\" class=\"data row0 col22\" >0.033883</td>\n",
       "      <td id=\"T_8b53b_row0_col23\" class=\"data row0 col23\" >nan</td>\n",
       "      <td id=\"T_8b53b_row0_col24\" class=\"data row0 col24\" >nan</td>\n",
       "      <td id=\"T_8b53b_row0_col25\" class=\"data row0 col25\" >-0.021968</td>\n",
       "    </tr>\n",
       "    <tr>\n",
       "      <th id=\"T_8b53b_level0_row1\" class=\"row_heading level0 row1\" >Year_Birth</th>\n",
       "      <td id=\"T_8b53b_row1_col0\" class=\"data row1 col0\" >0.000028</td>\n",
       "      <td id=\"T_8b53b_row1_col1\" class=\"data row1 col1\" >1.000000</td>\n",
       "      <td id=\"T_8b53b_row1_col2\" class=\"data row1 col2\" >-0.161791</td>\n",
       "      <td id=\"T_8b53b_row1_col3\" class=\"data row1 col3\" >0.230176</td>\n",
       "      <td id=\"T_8b53b_row1_col4\" class=\"data row1 col4\" >-0.352111</td>\n",
       "      <td id=\"T_8b53b_row1_col5\" class=\"data row1 col5\" >-0.019871</td>\n",
       "      <td id=\"T_8b53b_row1_col6\" class=\"data row1 col6\" >-0.157773</td>\n",
       "      <td id=\"T_8b53b_row1_col7\" class=\"data row1 col7\" >-0.017917</td>\n",
       "      <td id=\"T_8b53b_row1_col8\" class=\"data row1 col8\" >-0.030872</td>\n",
       "      <td id=\"T_8b53b_row1_col9\" class=\"data row1 col9\" >-0.041625</td>\n",
       "      <td id=\"T_8b53b_row1_col10\" class=\"data row1 col10\" >-0.018133</td>\n",
       "      <td id=\"T_8b53b_row1_col11\" class=\"data row1 col11\" >-0.061818</td>\n",
       "      <td id=\"T_8b53b_row1_col12\" class=\"data row1 col12\" >-0.060846</td>\n",
       "      <td id=\"T_8b53b_row1_col13\" class=\"data row1 col13\" >-0.145040</td>\n",
       "      <td id=\"T_8b53b_row1_col14\" class=\"data row1 col14\" >-0.121275</td>\n",
       "      <td id=\"T_8b53b_row1_col15\" class=\"data row1 col15\" >-0.128272</td>\n",
       "      <td id=\"T_8b53b_row1_col16\" class=\"data row1 col16\" >0.121139</td>\n",
       "      <td id=\"T_8b53b_row1_col17\" class=\"data row1 col17\" >0.061774</td>\n",
       "      <td id=\"T_8b53b_row1_col18\" class=\"data row1 col18\" >-0.060510</td>\n",
       "      <td id=\"T_8b53b_row1_col19\" class=\"data row1 col19\" >0.007123</td>\n",
       "      <td id=\"T_8b53b_row1_col20\" class=\"data row1 col20\" >-0.005930</td>\n",
       "      <td id=\"T_8b53b_row1_col21\" class=\"data row1 col21\" >-0.006539</td>\n",
       "      <td id=\"T_8b53b_row1_col22\" class=\"data row1 col22\" >-0.030128</td>\n",
       "      <td id=\"T_8b53b_row1_col23\" class=\"data row1 col23\" >nan</td>\n",
       "      <td id=\"T_8b53b_row1_col24\" class=\"data row1 col24\" >nan</td>\n",
       "      <td id=\"T_8b53b_row1_col25\" class=\"data row1 col25\" >0.021325</td>\n",
       "    </tr>\n",
       "    <tr>\n",
       "      <th id=\"T_8b53b_level0_row2\" class=\"row_heading level0 row2\" >Income</th>\n",
       "      <td id=\"T_8b53b_row2_col0\" class=\"data row2 col0\" >0.013095</td>\n",
       "      <td id=\"T_8b53b_row2_col1\" class=\"data row2 col1\" >-0.161791</td>\n",
       "      <td id=\"T_8b53b_row2_col2\" class=\"data row2 col2\" >1.000000</td>\n",
       "      <td id=\"T_8b53b_row2_col3\" class=\"data row2 col3\" >-0.428669</td>\n",
       "      <td id=\"T_8b53b_row2_col4\" class=\"data row2 col4\" >0.019133</td>\n",
       "      <td id=\"T_8b53b_row2_col5\" class=\"data row2 col5\" >-0.003970</td>\n",
       "      <td id=\"T_8b53b_row2_col6\" class=\"data row2 col6\" >0.578650</td>\n",
       "      <td id=\"T_8b53b_row2_col7\" class=\"data row2 col7\" >0.430842</td>\n",
       "      <td id=\"T_8b53b_row2_col8\" class=\"data row2 col8\" >0.584633</td>\n",
       "      <td id=\"T_8b53b_row2_col9\" class=\"data row2 col9\" >0.438871</td>\n",
       "      <td id=\"T_8b53b_row2_col10\" class=\"data row2 col10\" >0.440744</td>\n",
       "      <td id=\"T_8b53b_row2_col11\" class=\"data row2 col11\" >0.325916</td>\n",
       "      <td id=\"T_8b53b_row2_col12\" class=\"data row2 col12\" >-0.083101</td>\n",
       "      <td id=\"T_8b53b_row2_col13\" class=\"data row2 col13\" >0.387878</td>\n",
       "      <td id=\"T_8b53b_row2_col14\" class=\"data row2 col14\" >0.589162</td>\n",
       "      <td id=\"T_8b53b_row2_col15\" class=\"data row2 col15\" >0.529362</td>\n",
       "      <td id=\"T_8b53b_row2_col16\" class=\"data row2 col16\" >-0.553088</td>\n",
       "      <td id=\"T_8b53b_row2_col17\" class=\"data row2 col17\" >-0.016174</td>\n",
       "      <td id=\"T_8b53b_row2_col18\" class=\"data row2 col18\" >0.184400</td>\n",
       "      <td id=\"T_8b53b_row2_col19\" class=\"data row2 col19\" >0.335943</td>\n",
       "      <td id=\"T_8b53b_row2_col20\" class=\"data row2 col20\" >0.276820</td>\n",
       "      <td id=\"T_8b53b_row2_col21\" class=\"data row2 col21\" >0.087545</td>\n",
       "      <td id=\"T_8b53b_row2_col22\" class=\"data row2 col22\" >-0.027225</td>\n",
       "      <td id=\"T_8b53b_row2_col23\" class=\"data row2 col23\" >nan</td>\n",
       "      <td id=\"T_8b53b_row2_col24\" class=\"data row2 col24\" >nan</td>\n",
       "      <td id=\"T_8b53b_row2_col25\" class=\"data row2 col25\" >0.133047</td>\n",
       "    </tr>\n",
       "    <tr>\n",
       "      <th id=\"T_8b53b_level0_row3\" class=\"row_heading level0 row3\" >Kidhome</th>\n",
       "      <td id=\"T_8b53b_row3_col0\" class=\"data row3 col0\" >0.002406</td>\n",
       "      <td id=\"T_8b53b_row3_col1\" class=\"data row3 col1\" >0.230176</td>\n",
       "      <td id=\"T_8b53b_row3_col2\" class=\"data row3 col2\" >-0.428669</td>\n",
       "      <td id=\"T_8b53b_row3_col3\" class=\"data row3 col3\" >1.000000</td>\n",
       "      <td id=\"T_8b53b_row3_col4\" class=\"data row3 col4\" >-0.036133</td>\n",
       "      <td id=\"T_8b53b_row3_col5\" class=\"data row3 col5\" >0.008827</td>\n",
       "      <td id=\"T_8b53b_row3_col6\" class=\"data row3 col6\" >-0.496297</td>\n",
       "      <td id=\"T_8b53b_row3_col7\" class=\"data row3 col7\" >-0.372581</td>\n",
       "      <td id=\"T_8b53b_row3_col8\" class=\"data row3 col8\" >-0.437129</td>\n",
       "      <td id=\"T_8b53b_row3_col9\" class=\"data row3 col9\" >-0.387644</td>\n",
       "      <td id=\"T_8b53b_row3_col10\" class=\"data row3 col10\" >-0.370673</td>\n",
       "      <td id=\"T_8b53b_row3_col11\" class=\"data row3 col11\" >-0.349595</td>\n",
       "      <td id=\"T_8b53b_row3_col12\" class=\"data row3 col12\" >0.221798</td>\n",
       "      <td id=\"T_8b53b_row3_col13\" class=\"data row3 col13\" >-0.361647</td>\n",
       "      <td id=\"T_8b53b_row3_col14\" class=\"data row3 col14\" >-0.502237</td>\n",
       "      <td id=\"T_8b53b_row3_col15\" class=\"data row3 col15\" >-0.499683</td>\n",
       "      <td id=\"T_8b53b_row3_col16\" class=\"data row3 col16\" >0.447846</td>\n",
       "      <td id=\"T_8b53b_row3_col17\" class=\"data row3 col17\" >0.014674</td>\n",
       "      <td id=\"T_8b53b_row3_col18\" class=\"data row3 col18\" >-0.161600</td>\n",
       "      <td id=\"T_8b53b_row3_col19\" class=\"data row3 col19\" >-0.205634</td>\n",
       "      <td id=\"T_8b53b_row3_col20\" class=\"data row3 col20\" >-0.172339</td>\n",
       "      <td id=\"T_8b53b_row3_col21\" class=\"data row3 col21\" >-0.081716</td>\n",
       "      <td id=\"T_8b53b_row3_col22\" class=\"data row3 col22\" >0.040207</td>\n",
       "      <td id=\"T_8b53b_row3_col23\" class=\"data row3 col23\" >nan</td>\n",
       "      <td id=\"T_8b53b_row3_col24\" class=\"data row3 col24\" >nan</td>\n",
       "      <td id=\"T_8b53b_row3_col25\" class=\"data row3 col25\" >-0.080008</td>\n",
       "    </tr>\n",
       "    <tr>\n",
       "      <th id=\"T_8b53b_level0_row4\" class=\"row_heading level0 row4\" >Teenhome</th>\n",
       "      <td id=\"T_8b53b_row4_col0\" class=\"data row4 col0\" >-0.002580</td>\n",
       "      <td id=\"T_8b53b_row4_col1\" class=\"data row4 col1\" >-0.352111</td>\n",
       "      <td id=\"T_8b53b_row4_col2\" class=\"data row4 col2\" >0.019133</td>\n",
       "      <td id=\"T_8b53b_row4_col3\" class=\"data row4 col3\" >-0.036133</td>\n",
       "      <td id=\"T_8b53b_row4_col4\" class=\"data row4 col4\" >1.000000</td>\n",
       "      <td id=\"T_8b53b_row4_col5\" class=\"data row4 col5\" >0.016198</td>\n",
       "      <td id=\"T_8b53b_row4_col6\" class=\"data row4 col6\" >0.004846</td>\n",
       "      <td id=\"T_8b53b_row4_col7\" class=\"data row4 col7\" >-0.176764</td>\n",
       "      <td id=\"T_8b53b_row4_col8\" class=\"data row4 col8\" >-0.261160</td>\n",
       "      <td id=\"T_8b53b_row4_col9\" class=\"data row4 col9\" >-0.204187</td>\n",
       "      <td id=\"T_8b53b_row4_col10\" class=\"data row4 col10\" >-0.162475</td>\n",
       "      <td id=\"T_8b53b_row4_col11\" class=\"data row4 col11\" >-0.021725</td>\n",
       "      <td id=\"T_8b53b_row4_col12\" class=\"data row4 col12\" >0.387741</td>\n",
       "      <td id=\"T_8b53b_row4_col13\" class=\"data row4 col13\" >0.155500</td>\n",
       "      <td id=\"T_8b53b_row4_col14\" class=\"data row4 col14\" >-0.110769</td>\n",
       "      <td id=\"T_8b53b_row4_col15\" class=\"data row4 col15\" >0.050695</td>\n",
       "      <td id=\"T_8b53b_row4_col16\" class=\"data row4 col16\" >0.134884</td>\n",
       "      <td id=\"T_8b53b_row4_col17\" class=\"data row4 col17\" >-0.042677</td>\n",
       "      <td id=\"T_8b53b_row4_col18\" class=\"data row4 col18\" >0.038886</td>\n",
       "      <td id=\"T_8b53b_row4_col19\" class=\"data row4 col19\" >-0.191050</td>\n",
       "      <td id=\"T_8b53b_row4_col20\" class=\"data row4 col20\" >-0.140090</td>\n",
       "      <td id=\"T_8b53b_row4_col21\" class=\"data row4 col21\" >-0.015605</td>\n",
       "      <td id=\"T_8b53b_row4_col22\" class=\"data row4 col22\" >0.003138</td>\n",
       "      <td id=\"T_8b53b_row4_col23\" class=\"data row4 col23\" >nan</td>\n",
       "      <td id=\"T_8b53b_row4_col24\" class=\"data row4 col24\" >nan</td>\n",
       "      <td id=\"T_8b53b_row4_col25\" class=\"data row4 col25\" >-0.154446</td>\n",
       "    </tr>\n",
       "    <tr>\n",
       "      <th id=\"T_8b53b_level0_row5\" class=\"row_heading level0 row5\" >Recency</th>\n",
       "      <td id=\"T_8b53b_row5_col0\" class=\"data row5 col0\" >-0.046524</td>\n",
       "      <td id=\"T_8b53b_row5_col1\" class=\"data row5 col1\" >-0.019871</td>\n",
       "      <td id=\"T_8b53b_row5_col2\" class=\"data row5 col2\" >-0.003970</td>\n",
       "      <td id=\"T_8b53b_row5_col3\" class=\"data row5 col3\" >0.008827</td>\n",
       "      <td id=\"T_8b53b_row5_col4\" class=\"data row5 col4\" >0.016198</td>\n",
       "      <td id=\"T_8b53b_row5_col5\" class=\"data row5 col5\" >1.000000</td>\n",
       "      <td id=\"T_8b53b_row5_col6\" class=\"data row5 col6\" >0.016064</td>\n",
       "      <td id=\"T_8b53b_row5_col7\" class=\"data row5 col7\" >-0.004306</td>\n",
       "      <td id=\"T_8b53b_row5_col8\" class=\"data row5 col8\" >0.023056</td>\n",
       "      <td id=\"T_8b53b_row5_col9\" class=\"data row5 col9\" >0.001079</td>\n",
       "      <td id=\"T_8b53b_row5_col10\" class=\"data row5 col10\" >0.022670</td>\n",
       "      <td id=\"T_8b53b_row5_col11\" class=\"data row5 col11\" >0.016693</td>\n",
       "      <td id=\"T_8b53b_row5_col12\" class=\"data row5 col12\" >-0.001098</td>\n",
       "      <td id=\"T_8b53b_row5_col13\" class=\"data row5 col13\" >-0.010726</td>\n",
       "      <td id=\"T_8b53b_row5_col14\" class=\"data row5 col14\" >0.025110</td>\n",
       "      <td id=\"T_8b53b_row5_col15\" class=\"data row5 col15\" >0.000799</td>\n",
       "      <td id=\"T_8b53b_row5_col16\" class=\"data row5 col16\" >-0.021445</td>\n",
       "      <td id=\"T_8b53b_row5_col17\" class=\"data row5 col17\" >-0.032991</td>\n",
       "      <td id=\"T_8b53b_row5_col18\" class=\"data row5 col18\" >0.018826</td>\n",
       "      <td id=\"T_8b53b_row5_col19\" class=\"data row5 col19\" >0.000129</td>\n",
       "      <td id=\"T_8b53b_row5_col20\" class=\"data row5 col20\" >-0.019283</td>\n",
       "      <td id=\"T_8b53b_row5_col21\" class=\"data row5 col21\" >-0.001781</td>\n",
       "      <td id=\"T_8b53b_row5_col22\" class=\"data row5 col22\" >0.013231</td>\n",
       "      <td id=\"T_8b53b_row5_col23\" class=\"data row5 col23\" >nan</td>\n",
       "      <td id=\"T_8b53b_row5_col24\" class=\"data row5 col24\" >nan</td>\n",
       "      <td id=\"T_8b53b_row5_col25\" class=\"data row5 col25\" >-0.198437</td>\n",
       "    </tr>\n",
       "    <tr>\n",
       "      <th id=\"T_8b53b_level0_row6\" class=\"row_heading level0 row6\" >MntWines</th>\n",
       "      <td id=\"T_8b53b_row6_col0\" class=\"data row6 col0\" >-0.022878</td>\n",
       "      <td id=\"T_8b53b_row6_col1\" class=\"data row6 col1\" >-0.157773</td>\n",
       "      <td id=\"T_8b53b_row6_col2\" class=\"data row6 col2\" >0.578650</td>\n",
       "      <td id=\"T_8b53b_row6_col3\" class=\"data row6 col3\" >-0.496297</td>\n",
       "      <td id=\"T_8b53b_row6_col4\" class=\"data row6 col4\" >0.004846</td>\n",
       "      <td id=\"T_8b53b_row6_col5\" class=\"data row6 col5\" >0.016064</td>\n",
       "      <td id=\"T_8b53b_row6_col6\" class=\"data row6 col6\" >1.000000</td>\n",
       "      <td id=\"T_8b53b_row6_col7\" class=\"data row6 col7\" >0.389637</td>\n",
       "      <td id=\"T_8b53b_row6_col8\" class=\"data row6 col8\" >0.562667</td>\n",
       "      <td id=\"T_8b53b_row6_col9\" class=\"data row6 col9\" >0.399753</td>\n",
       "      <td id=\"T_8b53b_row6_col10\" class=\"data row6 col10\" >0.386581</td>\n",
       "      <td id=\"T_8b53b_row6_col11\" class=\"data row6 col11\" >0.387516</td>\n",
       "      <td id=\"T_8b53b_row6_col12\" class=\"data row6 col12\" >0.010940</td>\n",
       "      <td id=\"T_8b53b_row6_col13\" class=\"data row6 col13\" >0.542265</td>\n",
       "      <td id=\"T_8b53b_row6_col14\" class=\"data row6 col14\" >0.635226</td>\n",
       "      <td id=\"T_8b53b_row6_col15\" class=\"data row6 col15\" >0.642100</td>\n",
       "      <td id=\"T_8b53b_row6_col16\" class=\"data row6 col16\" >-0.320653</td>\n",
       "      <td id=\"T_8b53b_row6_col17\" class=\"data row6 col17\" >0.062202</td>\n",
       "      <td id=\"T_8b53b_row6_col18\" class=\"data row6 col18\" >0.373286</td>\n",
       "      <td id=\"T_8b53b_row6_col19\" class=\"data row6 col19\" >0.472613</td>\n",
       "      <td id=\"T_8b53b_row6_col20\" class=\"data row6 col20\" >0.354133</td>\n",
       "      <td id=\"T_8b53b_row6_col21\" class=\"data row6 col21\" >0.205907</td>\n",
       "      <td id=\"T_8b53b_row6_col22\" class=\"data row6 col22\" >-0.039007</td>\n",
       "      <td id=\"T_8b53b_row6_col23\" class=\"data row6 col23\" >nan</td>\n",
       "      <td id=\"T_8b53b_row6_col24\" class=\"data row6 col24\" >nan</td>\n",
       "      <td id=\"T_8b53b_row6_col25\" class=\"data row6 col25\" >0.247254</td>\n",
       "    </tr>\n",
       "    <tr>\n",
       "      <th id=\"T_8b53b_level0_row7\" class=\"row_heading level0 row7\" >MntFruits</th>\n",
       "      <td id=\"T_8b53b_row7_col0\" class=\"data row7 col0\" >0.004600</td>\n",
       "      <td id=\"T_8b53b_row7_col1\" class=\"data row7 col1\" >-0.017917</td>\n",
       "      <td id=\"T_8b53b_row7_col2\" class=\"data row7 col2\" >0.430842</td>\n",
       "      <td id=\"T_8b53b_row7_col3\" class=\"data row7 col3\" >-0.372581</td>\n",
       "      <td id=\"T_8b53b_row7_col4\" class=\"data row7 col4\" >-0.176764</td>\n",
       "      <td id=\"T_8b53b_row7_col5\" class=\"data row7 col5\" >-0.004306</td>\n",
       "      <td id=\"T_8b53b_row7_col6\" class=\"data row7 col6\" >0.389637</td>\n",
       "      <td id=\"T_8b53b_row7_col7\" class=\"data row7 col7\" >1.000000</td>\n",
       "      <td id=\"T_8b53b_row7_col8\" class=\"data row7 col8\" >0.543105</td>\n",
       "      <td id=\"T_8b53b_row7_col9\" class=\"data row7 col9\" >0.594804</td>\n",
       "      <td id=\"T_8b53b_row7_col10\" class=\"data row7 col10\" >0.567164</td>\n",
       "      <td id=\"T_8b53b_row7_col11\" class=\"data row7 col11\" >0.392995</td>\n",
       "      <td id=\"T_8b53b_row7_col12\" class=\"data row7 col12\" >-0.132114</td>\n",
       "      <td id=\"T_8b53b_row7_col13\" class=\"data row7 col13\" >0.296735</td>\n",
       "      <td id=\"T_8b53b_row7_col14\" class=\"data row7 col14\" >0.487917</td>\n",
       "      <td id=\"T_8b53b_row7_col15\" class=\"data row7 col15\" >0.461758</td>\n",
       "      <td id=\"T_8b53b_row7_col16\" class=\"data row7 col16\" >-0.418383</td>\n",
       "      <td id=\"T_8b53b_row7_col17\" class=\"data row7 col17\" >0.014727</td>\n",
       "      <td id=\"T_8b53b_row7_col18\" class=\"data row7 col18\" >0.010152</td>\n",
       "      <td id=\"T_8b53b_row7_col19\" class=\"data row7 col19\" >0.215833</td>\n",
       "      <td id=\"T_8b53b_row7_col20\" class=\"data row7 col20\" >0.194748</td>\n",
       "      <td id=\"T_8b53b_row7_col21\" class=\"data row7 col21\" >-0.009773</td>\n",
       "      <td id=\"T_8b53b_row7_col22\" class=\"data row7 col22\" >-0.005166</td>\n",
       "      <td id=\"T_8b53b_row7_col23\" class=\"data row7 col23\" >nan</td>\n",
       "      <td id=\"T_8b53b_row7_col24\" class=\"data row7 col24\" >nan</td>\n",
       "      <td id=\"T_8b53b_row7_col25\" class=\"data row7 col25\" >0.125289</td>\n",
       "    </tr>\n",
       "    <tr>\n",
       "      <th id=\"T_8b53b_level0_row8\" class=\"row_heading level0 row8\" >MntMeatProducts</th>\n",
       "      <td id=\"T_8b53b_row8_col0\" class=\"data row8 col0\" >-0.004437</td>\n",
       "      <td id=\"T_8b53b_row8_col1\" class=\"data row8 col1\" >-0.030872</td>\n",
       "      <td id=\"T_8b53b_row8_col2\" class=\"data row8 col2\" >0.584633</td>\n",
       "      <td id=\"T_8b53b_row8_col3\" class=\"data row8 col3\" >-0.437129</td>\n",
       "      <td id=\"T_8b53b_row8_col4\" class=\"data row8 col4\" >-0.261160</td>\n",
       "      <td id=\"T_8b53b_row8_col5\" class=\"data row8 col5\" >0.023056</td>\n",
       "      <td id=\"T_8b53b_row8_col6\" class=\"data row8 col6\" >0.562667</td>\n",
       "      <td id=\"T_8b53b_row8_col7\" class=\"data row8 col7\" >0.543105</td>\n",
       "      <td id=\"T_8b53b_row8_col8\" class=\"data row8 col8\" >1.000000</td>\n",
       "      <td id=\"T_8b53b_row8_col9\" class=\"data row8 col9\" >0.568402</td>\n",
       "      <td id=\"T_8b53b_row8_col10\" class=\"data row8 col10\" >0.523846</td>\n",
       "      <td id=\"T_8b53b_row8_col11\" class=\"data row8 col11\" >0.350609</td>\n",
       "      <td id=\"T_8b53b_row8_col12\" class=\"data row8 col12\" >-0.122415</td>\n",
       "      <td id=\"T_8b53b_row8_col13\" class=\"data row8 col13\" >0.293761</td>\n",
       "      <td id=\"T_8b53b_row8_col14\" class=\"data row8 col14\" >0.723827</td>\n",
       "      <td id=\"T_8b53b_row8_col15\" class=\"data row8 col15\" >0.479659</td>\n",
       "      <td id=\"T_8b53b_row8_col16\" class=\"data row8 col16\" >-0.539470</td>\n",
       "      <td id=\"T_8b53b_row8_col17\" class=\"data row8 col17\" >0.018272</td>\n",
       "      <td id=\"T_8b53b_row8_col18\" class=\"data row8 col18\" >0.102912</td>\n",
       "      <td id=\"T_8b53b_row8_col19\" class=\"data row8 col19\" >0.373769</td>\n",
       "      <td id=\"T_8b53b_row8_col20\" class=\"data row8 col20\" >0.309761</td>\n",
       "      <td id=\"T_8b53b_row8_col21\" class=\"data row8 col21\" >0.043033</td>\n",
       "      <td id=\"T_8b53b_row8_col22\" class=\"data row8 col22\" >-0.023483</td>\n",
       "      <td id=\"T_8b53b_row8_col23\" class=\"data row8 col23\" >nan</td>\n",
       "      <td id=\"T_8b53b_row8_col24\" class=\"data row8 col24\" >nan</td>\n",
       "      <td id=\"T_8b53b_row8_col25\" class=\"data row8 col25\" >0.236335</td>\n",
       "    </tr>\n",
       "    <tr>\n",
       "      <th id=\"T_8b53b_level0_row9\" class=\"row_heading level0 row9\" >MntFishProducts</th>\n",
       "      <td id=\"T_8b53b_row9_col0\" class=\"data row9 col0\" >-0.024475</td>\n",
       "      <td id=\"T_8b53b_row9_col1\" class=\"data row9 col1\" >-0.041625</td>\n",
       "      <td id=\"T_8b53b_row9_col2\" class=\"data row9 col2\" >0.438871</td>\n",
       "      <td id=\"T_8b53b_row9_col3\" class=\"data row9 col3\" >-0.387644</td>\n",
       "      <td id=\"T_8b53b_row9_col4\" class=\"data row9 col4\" >-0.204187</td>\n",
       "      <td id=\"T_8b53b_row9_col5\" class=\"data row9 col5\" >0.001079</td>\n",
       "      <td id=\"T_8b53b_row9_col6\" class=\"data row9 col6\" >0.399753</td>\n",
       "      <td id=\"T_8b53b_row9_col7\" class=\"data row9 col7\" >0.594804</td>\n",
       "      <td id=\"T_8b53b_row9_col8\" class=\"data row9 col8\" >0.568402</td>\n",
       "      <td id=\"T_8b53b_row9_col9\" class=\"data row9 col9\" >1.000000</td>\n",
       "      <td id=\"T_8b53b_row9_col10\" class=\"data row9 col10\" >0.579870</td>\n",
       "      <td id=\"T_8b53b_row9_col11\" class=\"data row9 col11\" >0.422875</td>\n",
       "      <td id=\"T_8b53b_row9_col12\" class=\"data row9 col12\" >-0.139361</td>\n",
       "      <td id=\"T_8b53b_row9_col13\" class=\"data row9 col13\" >0.293681</td>\n",
       "      <td id=\"T_8b53b_row9_col14\" class=\"data row9 col14\" >0.534478</td>\n",
       "      <td id=\"T_8b53b_row9_col15\" class=\"data row9 col15\" >0.459855</td>\n",
       "      <td id=\"T_8b53b_row9_col16\" class=\"data row9 col16\" >-0.446003</td>\n",
       "      <td id=\"T_8b53b_row9_col17\" class=\"data row9 col17\" >0.000357</td>\n",
       "      <td id=\"T_8b53b_row9_col18\" class=\"data row9 col18\" >0.016843</td>\n",
       "      <td id=\"T_8b53b_row9_col19\" class=\"data row9 col19\" >0.199578</td>\n",
       "      <td id=\"T_8b53b_row9_col20\" class=\"data row9 col20\" >0.260762</td>\n",
       "      <td id=\"T_8b53b_row9_col21\" class=\"data row9 col21\" >0.002577</td>\n",
       "      <td id=\"T_8b53b_row9_col22\" class=\"data row9 col22\" >-0.020953</td>\n",
       "      <td id=\"T_8b53b_row9_col23\" class=\"data row9 col23\" >nan</td>\n",
       "      <td id=\"T_8b53b_row9_col24\" class=\"data row9 col24\" >nan</td>\n",
       "      <td id=\"T_8b53b_row9_col25\" class=\"data row9 col25\" >0.111331</td>\n",
       "    </tr>\n",
       "    <tr>\n",
       "      <th id=\"T_8b53b_level0_row10\" class=\"row_heading level0 row10\" >MntSweetProducts</th>\n",
       "      <td id=\"T_8b53b_row10_col0\" class=\"data row10 col0\" >-0.007642</td>\n",
       "      <td id=\"T_8b53b_row10_col1\" class=\"data row10 col1\" >-0.018133</td>\n",
       "      <td id=\"T_8b53b_row10_col2\" class=\"data row10 col2\" >0.440744</td>\n",
       "      <td id=\"T_8b53b_row10_col3\" class=\"data row10 col3\" >-0.370673</td>\n",
       "      <td id=\"T_8b53b_row10_col4\" class=\"data row10 col4\" >-0.162475</td>\n",
       "      <td id=\"T_8b53b_row10_col5\" class=\"data row10 col5\" >0.022670</td>\n",
       "      <td id=\"T_8b53b_row10_col6\" class=\"data row10 col6\" >0.386581</td>\n",
       "      <td id=\"T_8b53b_row10_col7\" class=\"data row10 col7\" >0.567164</td>\n",
       "      <td id=\"T_8b53b_row10_col8\" class=\"data row10 col8\" >0.523846</td>\n",
       "      <td id=\"T_8b53b_row10_col9\" class=\"data row10 col9\" >0.579870</td>\n",
       "      <td id=\"T_8b53b_row10_col10\" class=\"data row10 col10\" >1.000000</td>\n",
       "      <td id=\"T_8b53b_row10_col11\" class=\"data row10 col11\" >0.369724</td>\n",
       "      <td id=\"T_8b53b_row10_col12\" class=\"data row10 col12\" >-0.120100</td>\n",
       "      <td id=\"T_8b53b_row10_col13\" class=\"data row10 col13\" >0.348544</td>\n",
       "      <td id=\"T_8b53b_row10_col14\" class=\"data row10 col14\" >0.490924</td>\n",
       "      <td id=\"T_8b53b_row10_col15\" class=\"data row10 col15\" >0.448756</td>\n",
       "      <td id=\"T_8b53b_row10_col16\" class=\"data row10 col16\" >-0.423294</td>\n",
       "      <td id=\"T_8b53b_row10_col17\" class=\"data row10 col17\" >0.001530</td>\n",
       "      <td id=\"T_8b53b_row10_col18\" class=\"data row10 col18\" >0.028641</td>\n",
       "      <td id=\"T_8b53b_row10_col19\" class=\"data row10 col19\" >0.259590</td>\n",
       "      <td id=\"T_8b53b_row10_col20\" class=\"data row10 col20\" >0.241818</td>\n",
       "      <td id=\"T_8b53b_row10_col21\" class=\"data row10 col21\" >0.009985</td>\n",
       "      <td id=\"T_8b53b_row10_col22\" class=\"data row10 col22\" >-0.022485</td>\n",
       "      <td id=\"T_8b53b_row10_col23\" class=\"data row10 col23\" >nan</td>\n",
       "      <td id=\"T_8b53b_row10_col24\" class=\"data row10 col24\" >nan</td>\n",
       "      <td id=\"T_8b53b_row10_col25\" class=\"data row10 col25\" >0.117372</td>\n",
       "    </tr>\n",
       "    <tr>\n",
       "      <th id=\"T_8b53b_level0_row11\" class=\"row_heading level0 row11\" >MntGoldProds</th>\n",
       "      <td id=\"T_8b53b_row11_col0\" class=\"data row11 col0\" >-0.013438</td>\n",
       "      <td id=\"T_8b53b_row11_col1\" class=\"data row11 col1\" >-0.061818</td>\n",
       "      <td id=\"T_8b53b_row11_col2\" class=\"data row11 col2\" >0.325916</td>\n",
       "      <td id=\"T_8b53b_row11_col3\" class=\"data row11 col3\" >-0.349595</td>\n",
       "      <td id=\"T_8b53b_row11_col4\" class=\"data row11 col4\" >-0.021725</td>\n",
       "      <td id=\"T_8b53b_row11_col5\" class=\"data row11 col5\" >0.016693</td>\n",
       "      <td id=\"T_8b53b_row11_col6\" class=\"data row11 col6\" >0.387516</td>\n",
       "      <td id=\"T_8b53b_row11_col7\" class=\"data row11 col7\" >0.392995</td>\n",
       "      <td id=\"T_8b53b_row11_col8\" class=\"data row11 col8\" >0.350609</td>\n",
       "      <td id=\"T_8b53b_row11_col9\" class=\"data row11 col9\" >0.422875</td>\n",
       "      <td id=\"T_8b53b_row11_col10\" class=\"data row11 col10\" >0.369724</td>\n",
       "      <td id=\"T_8b53b_row11_col11\" class=\"data row11 col11\" >1.000000</td>\n",
       "      <td id=\"T_8b53b_row11_col12\" class=\"data row11 col12\" >0.049085</td>\n",
       "      <td id=\"T_8b53b_row11_col13\" class=\"data row11 col13\" >0.421836</td>\n",
       "      <td id=\"T_8b53b_row11_col14\" class=\"data row11 col14\" >0.437697</td>\n",
       "      <td id=\"T_8b53b_row11_col15\" class=\"data row11 col15\" >0.381678</td>\n",
       "      <td id=\"T_8b53b_row11_col16\" class=\"data row11 col16\" >-0.250719</td>\n",
       "      <td id=\"T_8b53b_row11_col17\" class=\"data row11 col17\" >0.123091</td>\n",
       "      <td id=\"T_8b53b_row11_col18\" class=\"data row11 col18\" >0.022268</td>\n",
       "      <td id=\"T_8b53b_row11_col19\" class=\"data row11 col19\" >0.181021</td>\n",
       "      <td id=\"T_8b53b_row11_col20\" class=\"data row11 col20\" >0.166396</td>\n",
       "      <td id=\"T_8b53b_row11_col21\" class=\"data row11 col21\" >0.049990</td>\n",
       "      <td id=\"T_8b53b_row11_col22\" class=\"data row11 col22\" >-0.030861</td>\n",
       "      <td id=\"T_8b53b_row11_col23\" class=\"data row11 col23\" >nan</td>\n",
       "      <td id=\"T_8b53b_row11_col24\" class=\"data row11 col24\" >nan</td>\n",
       "      <td id=\"T_8b53b_row11_col25\" class=\"data row11 col25\" >0.139850</td>\n",
       "    </tr>\n",
       "    <tr>\n",
       "      <th id=\"T_8b53b_level0_row12\" class=\"row_heading level0 row12\" >NumDealsPurchases</th>\n",
       "      <td id=\"T_8b53b_row12_col0\" class=\"data row12 col0\" >-0.037166</td>\n",
       "      <td id=\"T_8b53b_row12_col1\" class=\"data row12 col1\" >-0.060846</td>\n",
       "      <td id=\"T_8b53b_row12_col2\" class=\"data row12 col2\" >-0.083101</td>\n",
       "      <td id=\"T_8b53b_row12_col3\" class=\"data row12 col3\" >0.221798</td>\n",
       "      <td id=\"T_8b53b_row12_col4\" class=\"data row12 col4\" >0.387741</td>\n",
       "      <td id=\"T_8b53b_row12_col5\" class=\"data row12 col5\" >-0.001098</td>\n",
       "      <td id=\"T_8b53b_row12_col6\" class=\"data row12 col6\" >0.010940</td>\n",
       "      <td id=\"T_8b53b_row12_col7\" class=\"data row12 col7\" >-0.132114</td>\n",
       "      <td id=\"T_8b53b_row12_col8\" class=\"data row12 col8\" >-0.122415</td>\n",
       "      <td id=\"T_8b53b_row12_col9\" class=\"data row12 col9\" >-0.139361</td>\n",
       "      <td id=\"T_8b53b_row12_col10\" class=\"data row12 col10\" >-0.120100</td>\n",
       "      <td id=\"T_8b53b_row12_col11\" class=\"data row12 col11\" >0.049085</td>\n",
       "      <td id=\"T_8b53b_row12_col12\" class=\"data row12 col12\" >1.000000</td>\n",
       "      <td id=\"T_8b53b_row12_col13\" class=\"data row12 col13\" >0.234185</td>\n",
       "      <td id=\"T_8b53b_row12_col14\" class=\"data row12 col14\" >-0.008617</td>\n",
       "      <td id=\"T_8b53b_row12_col15\" class=\"data row12 col15\" >0.068879</td>\n",
       "      <td id=\"T_8b53b_row12_col16\" class=\"data row12 col16\" >0.347633</td>\n",
       "      <td id=\"T_8b53b_row12_col17\" class=\"data row12 col17\" >-0.023109</td>\n",
       "      <td id=\"T_8b53b_row12_col18\" class=\"data row12 col18\" >0.015594</td>\n",
       "      <td id=\"T_8b53b_row12_col19\" class=\"data row12 col19\" >-0.183248</td>\n",
       "      <td id=\"T_8b53b_row12_col20\" class=\"data row12 col20\" >-0.123244</td>\n",
       "      <td id=\"T_8b53b_row12_col21\" class=\"data row12 col21\" >-0.037695</td>\n",
       "      <td id=\"T_8b53b_row12_col22\" class=\"data row12 col22\" >0.000420</td>\n",
       "      <td id=\"T_8b53b_row12_col23\" class=\"data row12 col23\" >nan</td>\n",
       "      <td id=\"T_8b53b_row12_col24\" class=\"data row12 col24\" >nan</td>\n",
       "      <td id=\"T_8b53b_row12_col25\" class=\"data row12 col25\" >0.002238</td>\n",
       "    </tr>\n",
       "    <tr>\n",
       "      <th id=\"T_8b53b_level0_row13\" class=\"row_heading level0 row13\" >NumWebPurchases</th>\n",
       "      <td id=\"T_8b53b_row13_col0\" class=\"data row13 col0\" >-0.018924</td>\n",
       "      <td id=\"T_8b53b_row13_col1\" class=\"data row13 col1\" >-0.145040</td>\n",
       "      <td id=\"T_8b53b_row13_col2\" class=\"data row13 col2\" >0.387878</td>\n",
       "      <td id=\"T_8b53b_row13_col3\" class=\"data row13 col3\" >-0.361647</td>\n",
       "      <td id=\"T_8b53b_row13_col4\" class=\"data row13 col4\" >0.155500</td>\n",
       "      <td id=\"T_8b53b_row13_col5\" class=\"data row13 col5\" >-0.010726</td>\n",
       "      <td id=\"T_8b53b_row13_col6\" class=\"data row13 col6\" >0.542265</td>\n",
       "      <td id=\"T_8b53b_row13_col7\" class=\"data row13 col7\" >0.296735</td>\n",
       "      <td id=\"T_8b53b_row13_col8\" class=\"data row13 col8\" >0.293761</td>\n",
       "      <td id=\"T_8b53b_row13_col9\" class=\"data row13 col9\" >0.293681</td>\n",
       "      <td id=\"T_8b53b_row13_col10\" class=\"data row13 col10\" >0.348544</td>\n",
       "      <td id=\"T_8b53b_row13_col11\" class=\"data row13 col11\" >0.421836</td>\n",
       "      <td id=\"T_8b53b_row13_col12\" class=\"data row13 col12\" >0.234185</td>\n",
       "      <td id=\"T_8b53b_row13_col13\" class=\"data row13 col13\" >1.000000</td>\n",
       "      <td id=\"T_8b53b_row13_col14\" class=\"data row13 col14\" >0.378376</td>\n",
       "      <td id=\"T_8b53b_row13_col15\" class=\"data row13 col15\" >0.502713</td>\n",
       "      <td id=\"T_8b53b_row13_col16\" class=\"data row13 col16\" >-0.055846</td>\n",
       "      <td id=\"T_8b53b_row13_col17\" class=\"data row13 col17\" >0.042176</td>\n",
       "      <td id=\"T_8b53b_row13_col18\" class=\"data row13 col18\" >0.155903</td>\n",
       "      <td id=\"T_8b53b_row13_col19\" class=\"data row13 col19\" >0.138684</td>\n",
       "      <td id=\"T_8b53b_row13_col20\" class=\"data row13 col20\" >0.155143</td>\n",
       "      <td id=\"T_8b53b_row13_col21\" class=\"data row13 col21\" >0.034188</td>\n",
       "      <td id=\"T_8b53b_row13_col22\" class=\"data row13 col22\" >-0.016310</td>\n",
       "      <td id=\"T_8b53b_row13_col23\" class=\"data row13 col23\" >nan</td>\n",
       "      <td id=\"T_8b53b_row13_col24\" class=\"data row13 col24\" >nan</td>\n",
       "      <td id=\"T_8b53b_row13_col25\" class=\"data row13 col25\" >0.148730</td>\n",
       "    </tr>\n",
       "    <tr>\n",
       "      <th id=\"T_8b53b_level0_row14\" class=\"row_heading level0 row14\" >NumCatalogPurchases</th>\n",
       "      <td id=\"T_8b53b_row14_col0\" class=\"data row14 col0\" >-0.003440</td>\n",
       "      <td id=\"T_8b53b_row14_col1\" class=\"data row14 col1\" >-0.121275</td>\n",
       "      <td id=\"T_8b53b_row14_col2\" class=\"data row14 col2\" >0.589162</td>\n",
       "      <td id=\"T_8b53b_row14_col3\" class=\"data row14 col3\" >-0.502237</td>\n",
       "      <td id=\"T_8b53b_row14_col4\" class=\"data row14 col4\" >-0.110769</td>\n",
       "      <td id=\"T_8b53b_row14_col5\" class=\"data row14 col5\" >0.025110</td>\n",
       "      <td id=\"T_8b53b_row14_col6\" class=\"data row14 col6\" >0.635226</td>\n",
       "      <td id=\"T_8b53b_row14_col7\" class=\"data row14 col7\" >0.487917</td>\n",
       "      <td id=\"T_8b53b_row14_col8\" class=\"data row14 col8\" >0.723827</td>\n",
       "      <td id=\"T_8b53b_row14_col9\" class=\"data row14 col9\" >0.534478</td>\n",
       "      <td id=\"T_8b53b_row14_col10\" class=\"data row14 col10\" >0.490924</td>\n",
       "      <td id=\"T_8b53b_row14_col11\" class=\"data row14 col11\" >0.437697</td>\n",
       "      <td id=\"T_8b53b_row14_col12\" class=\"data row14 col12\" >-0.008617</td>\n",
       "      <td id=\"T_8b53b_row14_col13\" class=\"data row14 col13\" >0.378376</td>\n",
       "      <td id=\"T_8b53b_row14_col14\" class=\"data row14 col14\" >1.000000</td>\n",
       "      <td id=\"T_8b53b_row14_col15\" class=\"data row14 col15\" >0.518738</td>\n",
       "      <td id=\"T_8b53b_row14_col16\" class=\"data row14 col16\" >-0.520364</td>\n",
       "      <td id=\"T_8b53b_row14_col17\" class=\"data row14 col17\" >0.104730</td>\n",
       "      <td id=\"T_8b53b_row14_col18\" class=\"data row14 col18\" >0.139247</td>\n",
       "      <td id=\"T_8b53b_row14_col19\" class=\"data row14 col19\" >0.322321</td>\n",
       "      <td id=\"T_8b53b_row14_col20\" class=\"data row14 col20\" >0.308097</td>\n",
       "      <td id=\"T_8b53b_row14_col21\" class=\"data row14 col21\" >0.099852</td>\n",
       "      <td id=\"T_8b53b_row14_col22\" class=\"data row14 col22\" >-0.020453</td>\n",
       "      <td id=\"T_8b53b_row14_col23\" class=\"data row14 col23\" >nan</td>\n",
       "      <td id=\"T_8b53b_row14_col24\" class=\"data row14 col24\" >nan</td>\n",
       "      <td id=\"T_8b53b_row14_col25\" class=\"data row14 col25\" >0.220810</td>\n",
       "    </tr>\n",
       "    <tr>\n",
       "      <th id=\"T_8b53b_level0_row15\" class=\"row_heading level0 row15\" >NumStorePurchases</th>\n",
       "      <td id=\"T_8b53b_row15_col0\" class=\"data row15 col0\" >-0.014927</td>\n",
       "      <td id=\"T_8b53b_row15_col1\" class=\"data row15 col1\" >-0.128272</td>\n",
       "      <td id=\"T_8b53b_row15_col2\" class=\"data row15 col2\" >0.529362</td>\n",
       "      <td id=\"T_8b53b_row15_col3\" class=\"data row15 col3\" >-0.499683</td>\n",
       "      <td id=\"T_8b53b_row15_col4\" class=\"data row15 col4\" >0.050695</td>\n",
       "      <td id=\"T_8b53b_row15_col5\" class=\"data row15 col5\" >0.000799</td>\n",
       "      <td id=\"T_8b53b_row15_col6\" class=\"data row15 col6\" >0.642100</td>\n",
       "      <td id=\"T_8b53b_row15_col7\" class=\"data row15 col7\" >0.461758</td>\n",
       "      <td id=\"T_8b53b_row15_col8\" class=\"data row15 col8\" >0.479659</td>\n",
       "      <td id=\"T_8b53b_row15_col9\" class=\"data row15 col9\" >0.459855</td>\n",
       "      <td id=\"T_8b53b_row15_col10\" class=\"data row15 col10\" >0.448756</td>\n",
       "      <td id=\"T_8b53b_row15_col11\" class=\"data row15 col11\" >0.381678</td>\n",
       "      <td id=\"T_8b53b_row15_col12\" class=\"data row15 col12\" >0.068879</td>\n",
       "      <td id=\"T_8b53b_row15_col13\" class=\"data row15 col13\" >0.502713</td>\n",
       "      <td id=\"T_8b53b_row15_col14\" class=\"data row15 col14\" >0.518738</td>\n",
       "      <td id=\"T_8b53b_row15_col15\" class=\"data row15 col15\" >1.000000</td>\n",
       "      <td id=\"T_8b53b_row15_col16\" class=\"data row15 col16\" >-0.428473</td>\n",
       "      <td id=\"T_8b53b_row15_col17\" class=\"data row15 col17\" >-0.067577</td>\n",
       "      <td id=\"T_8b53b_row15_col18\" class=\"data row15 col18\" >0.179379</td>\n",
       "      <td id=\"T_8b53b_row15_col19\" class=\"data row15 col19\" >0.214790</td>\n",
       "      <td id=\"T_8b53b_row15_col20\" class=\"data row15 col20\" >0.183249</td>\n",
       "      <td id=\"T_8b53b_row15_col21\" class=\"data row15 col21\" >0.085189</td>\n",
       "      <td id=\"T_8b53b_row15_col22\" class=\"data row15 col22\" >-0.016524</td>\n",
       "      <td id=\"T_8b53b_row15_col23\" class=\"data row15 col23\" >nan</td>\n",
       "      <td id=\"T_8b53b_row15_col24\" class=\"data row15 col24\" >nan</td>\n",
       "      <td id=\"T_8b53b_row15_col25\" class=\"data row15 col25\" >0.039363</td>\n",
       "    </tr>\n",
       "    <tr>\n",
       "      <th id=\"T_8b53b_level0_row16\" class=\"row_heading level0 row16\" >NumWebVisitsMonth</th>\n",
       "      <td id=\"T_8b53b_row16_col0\" class=\"data row16 col0\" >-0.007446</td>\n",
       "      <td id=\"T_8b53b_row16_col1\" class=\"data row16 col1\" >0.121139</td>\n",
       "      <td id=\"T_8b53b_row16_col2\" class=\"data row16 col2\" >-0.553088</td>\n",
       "      <td id=\"T_8b53b_row16_col3\" class=\"data row16 col3\" >0.447846</td>\n",
       "      <td id=\"T_8b53b_row16_col4\" class=\"data row16 col4\" >0.134884</td>\n",
       "      <td id=\"T_8b53b_row16_col5\" class=\"data row16 col5\" >-0.021445</td>\n",
       "      <td id=\"T_8b53b_row16_col6\" class=\"data row16 col6\" >-0.320653</td>\n",
       "      <td id=\"T_8b53b_row16_col7\" class=\"data row16 col7\" >-0.418383</td>\n",
       "      <td id=\"T_8b53b_row16_col8\" class=\"data row16 col8\" >-0.539470</td>\n",
       "      <td id=\"T_8b53b_row16_col9\" class=\"data row16 col9\" >-0.446003</td>\n",
       "      <td id=\"T_8b53b_row16_col10\" class=\"data row16 col10\" >-0.423294</td>\n",
       "      <td id=\"T_8b53b_row16_col11\" class=\"data row16 col11\" >-0.250719</td>\n",
       "      <td id=\"T_8b53b_row16_col12\" class=\"data row16 col12\" >0.347633</td>\n",
       "      <td id=\"T_8b53b_row16_col13\" class=\"data row16 col13\" >-0.055846</td>\n",
       "      <td id=\"T_8b53b_row16_col14\" class=\"data row16 col14\" >-0.520364</td>\n",
       "      <td id=\"T_8b53b_row16_col15\" class=\"data row16 col15\" >-0.428473</td>\n",
       "      <td id=\"T_8b53b_row16_col16\" class=\"data row16 col16\" >1.000000</td>\n",
       "      <td id=\"T_8b53b_row16_col17\" class=\"data row16 col17\" >0.061211</td>\n",
       "      <td id=\"T_8b53b_row16_col18\" class=\"data row16 col18\" >-0.032126</td>\n",
       "      <td id=\"T_8b53b_row16_col19\" class=\"data row16 col19\" >-0.278113</td>\n",
       "      <td id=\"T_8b53b_row16_col20\" class=\"data row16 col20\" >-0.192502</td>\n",
       "      <td id=\"T_8b53b_row16_col21\" class=\"data row16 col21\" >-0.007196</td>\n",
       "      <td id=\"T_8b53b_row16_col22\" class=\"data row16 col22\" >0.019769</td>\n",
       "      <td id=\"T_8b53b_row16_col23\" class=\"data row16 col23\" >nan</td>\n",
       "      <td id=\"T_8b53b_row16_col24\" class=\"data row16 col24\" >nan</td>\n",
       "      <td id=\"T_8b53b_row16_col25\" class=\"data row16 col25\" >-0.003987</td>\n",
       "    </tr>\n",
       "    <tr>\n",
       "      <th id=\"T_8b53b_level0_row17\" class=\"row_heading level0 row17\" >AcceptedCmp3</th>\n",
       "      <td id=\"T_8b53b_row17_col0\" class=\"data row17 col0\" >-0.036040</td>\n",
       "      <td id=\"T_8b53b_row17_col1\" class=\"data row17 col1\" >0.061774</td>\n",
       "      <td id=\"T_8b53b_row17_col2\" class=\"data row17 col2\" >-0.016174</td>\n",
       "      <td id=\"T_8b53b_row17_col3\" class=\"data row17 col3\" >0.014674</td>\n",
       "      <td id=\"T_8b53b_row17_col4\" class=\"data row17 col4\" >-0.042677</td>\n",
       "      <td id=\"T_8b53b_row17_col5\" class=\"data row17 col5\" >-0.032991</td>\n",
       "      <td id=\"T_8b53b_row17_col6\" class=\"data row17 col6\" >0.062202</td>\n",
       "      <td id=\"T_8b53b_row17_col7\" class=\"data row17 col7\" >0.014727</td>\n",
       "      <td id=\"T_8b53b_row17_col8\" class=\"data row17 col8\" >0.018272</td>\n",
       "      <td id=\"T_8b53b_row17_col9\" class=\"data row17 col9\" >0.000357</td>\n",
       "      <td id=\"T_8b53b_row17_col10\" class=\"data row17 col10\" >0.001530</td>\n",
       "      <td id=\"T_8b53b_row17_col11\" class=\"data row17 col11\" >0.123091</td>\n",
       "      <td id=\"T_8b53b_row17_col12\" class=\"data row17 col12\" >-0.023109</td>\n",
       "      <td id=\"T_8b53b_row17_col13\" class=\"data row17 col13\" >0.042176</td>\n",
       "      <td id=\"T_8b53b_row17_col14\" class=\"data row17 col14\" >0.104730</td>\n",
       "      <td id=\"T_8b53b_row17_col15\" class=\"data row17 col15\" >-0.067577</td>\n",
       "      <td id=\"T_8b53b_row17_col16\" class=\"data row17 col16\" >0.061211</td>\n",
       "      <td id=\"T_8b53b_row17_col17\" class=\"data row17 col17\" >1.000000</td>\n",
       "      <td id=\"T_8b53b_row17_col18\" class=\"data row17 col18\" >-0.079512</td>\n",
       "      <td id=\"T_8b53b_row17_col19\" class=\"data row17 col19\" >0.080316</td>\n",
       "      <td id=\"T_8b53b_row17_col20\" class=\"data row17 col20\" >0.094751</td>\n",
       "      <td id=\"T_8b53b_row17_col21\" class=\"data row17 col21\" >0.072020</td>\n",
       "      <td id=\"T_8b53b_row17_col22\" class=\"data row17 col22\" >0.008415</td>\n",
       "      <td id=\"T_8b53b_row17_col23\" class=\"data row17 col23\" >nan</td>\n",
       "      <td id=\"T_8b53b_row17_col24\" class=\"data row17 col24\" >nan</td>\n",
       "      <td id=\"T_8b53b_row17_col25\" class=\"data row17 col25\" >0.254258</td>\n",
       "    </tr>\n",
       "    <tr>\n",
       "      <th id=\"T_8b53b_level0_row18\" class=\"row_heading level0 row18\" >AcceptedCmp4</th>\n",
       "      <td id=\"T_8b53b_row18_col0\" class=\"data row18 col0\" >-0.025387</td>\n",
       "      <td id=\"T_8b53b_row18_col1\" class=\"data row18 col1\" >-0.060510</td>\n",
       "      <td id=\"T_8b53b_row18_col2\" class=\"data row18 col2\" >0.184400</td>\n",
       "      <td id=\"T_8b53b_row18_col3\" class=\"data row18 col3\" >-0.161600</td>\n",
       "      <td id=\"T_8b53b_row18_col4\" class=\"data row18 col4\" >0.038886</td>\n",
       "      <td id=\"T_8b53b_row18_col5\" class=\"data row18 col5\" >0.018826</td>\n",
       "      <td id=\"T_8b53b_row18_col6\" class=\"data row18 col6\" >0.373286</td>\n",
       "      <td id=\"T_8b53b_row18_col7\" class=\"data row18 col7\" >0.010152</td>\n",
       "      <td id=\"T_8b53b_row18_col8\" class=\"data row18 col8\" >0.102912</td>\n",
       "      <td id=\"T_8b53b_row18_col9\" class=\"data row18 col9\" >0.016843</td>\n",
       "      <td id=\"T_8b53b_row18_col10\" class=\"data row18 col10\" >0.028641</td>\n",
       "      <td id=\"T_8b53b_row18_col11\" class=\"data row18 col11\" >0.022268</td>\n",
       "      <td id=\"T_8b53b_row18_col12\" class=\"data row18 col12\" >0.015594</td>\n",
       "      <td id=\"T_8b53b_row18_col13\" class=\"data row18 col13\" >0.155903</td>\n",
       "      <td id=\"T_8b53b_row18_col14\" class=\"data row18 col14\" >0.139247</td>\n",
       "      <td id=\"T_8b53b_row18_col15\" class=\"data row18 col15\" >0.179379</td>\n",
       "      <td id=\"T_8b53b_row18_col16\" class=\"data row18 col16\" >-0.032126</td>\n",
       "      <td id=\"T_8b53b_row18_col17\" class=\"data row18 col17\" >-0.079512</td>\n",
       "      <td id=\"T_8b53b_row18_col18\" class=\"data row18 col18\" >1.000000</td>\n",
       "      <td id=\"T_8b53b_row18_col19\" class=\"data row18 col19\" >0.306526</td>\n",
       "      <td id=\"T_8b53b_row18_col20\" class=\"data row18 col20\" >0.251300</td>\n",
       "      <td id=\"T_8b53b_row18_col21\" class=\"data row18 col21\" >0.292210</td>\n",
       "      <td id=\"T_8b53b_row18_col22\" class=\"data row18 col22\" >-0.027611</td>\n",
       "      <td id=\"T_8b53b_row18_col23\" class=\"data row18 col23\" >nan</td>\n",
       "      <td id=\"T_8b53b_row18_col24\" class=\"data row18 col24\" >nan</td>\n",
       "      <td id=\"T_8b53b_row18_col25\" class=\"data row18 col25\" >0.177019</td>\n",
       "    </tr>\n",
       "    <tr>\n",
       "      <th id=\"T_8b53b_level0_row19\" class=\"row_heading level0 row19\" >AcceptedCmp5</th>\n",
       "      <td id=\"T_8b53b_row19_col0\" class=\"data row19 col0\" >-0.007517</td>\n",
       "      <td id=\"T_8b53b_row19_col1\" class=\"data row19 col1\" >0.007123</td>\n",
       "      <td id=\"T_8b53b_row19_col2\" class=\"data row19 col2\" >0.335943</td>\n",
       "      <td id=\"T_8b53b_row19_col3\" class=\"data row19 col3\" >-0.205634</td>\n",
       "      <td id=\"T_8b53b_row19_col4\" class=\"data row19 col4\" >-0.191050</td>\n",
       "      <td id=\"T_8b53b_row19_col5\" class=\"data row19 col5\" >0.000129</td>\n",
       "      <td id=\"T_8b53b_row19_col6\" class=\"data row19 col6\" >0.472613</td>\n",
       "      <td id=\"T_8b53b_row19_col7\" class=\"data row19 col7\" >0.215833</td>\n",
       "      <td id=\"T_8b53b_row19_col8\" class=\"data row19 col8\" >0.373769</td>\n",
       "      <td id=\"T_8b53b_row19_col9\" class=\"data row19 col9\" >0.199578</td>\n",
       "      <td id=\"T_8b53b_row19_col10\" class=\"data row19 col10\" >0.259590</td>\n",
       "      <td id=\"T_8b53b_row19_col11\" class=\"data row19 col11\" >0.181021</td>\n",
       "      <td id=\"T_8b53b_row19_col12\" class=\"data row19 col12\" >-0.183248</td>\n",
       "      <td id=\"T_8b53b_row19_col13\" class=\"data row19 col13\" >0.138684</td>\n",
       "      <td id=\"T_8b53b_row19_col14\" class=\"data row19 col14\" >0.322321</td>\n",
       "      <td id=\"T_8b53b_row19_col15\" class=\"data row19 col15\" >0.214790</td>\n",
       "      <td id=\"T_8b53b_row19_col16\" class=\"data row19 col16\" >-0.278113</td>\n",
       "      <td id=\"T_8b53b_row19_col17\" class=\"data row19 col17\" >0.080316</td>\n",
       "      <td id=\"T_8b53b_row19_col18\" class=\"data row19 col18\" >0.306526</td>\n",
       "      <td id=\"T_8b53b_row19_col19\" class=\"data row19 col19\" >1.000000</td>\n",
       "      <td id=\"T_8b53b_row19_col20\" class=\"data row19 col20\" >0.403078</td>\n",
       "      <td id=\"T_8b53b_row19_col21\" class=\"data row19 col21\" >0.221533</td>\n",
       "      <td id=\"T_8b53b_row19_col22\" class=\"data row19 col22\" >-0.009419</td>\n",
       "      <td id=\"T_8b53b_row19_col23\" class=\"data row19 col23\" >nan</td>\n",
       "      <td id=\"T_8b53b_row19_col24\" class=\"data row19 col24\" >nan</td>\n",
       "      <td id=\"T_8b53b_row19_col25\" class=\"data row19 col25\" >0.326634</td>\n",
       "    </tr>\n",
       "    <tr>\n",
       "      <th id=\"T_8b53b_level0_row20\" class=\"row_heading level0 row20\" >AcceptedCmp1</th>\n",
       "      <td id=\"T_8b53b_row20_col0\" class=\"data row20 col0\" >-0.021614</td>\n",
       "      <td id=\"T_8b53b_row20_col1\" class=\"data row20 col1\" >-0.005930</td>\n",
       "      <td id=\"T_8b53b_row20_col2\" class=\"data row20 col2\" >0.276820</td>\n",
       "      <td id=\"T_8b53b_row20_col3\" class=\"data row20 col3\" >-0.172339</td>\n",
       "      <td id=\"T_8b53b_row20_col4\" class=\"data row20 col4\" >-0.140090</td>\n",
       "      <td id=\"T_8b53b_row20_col5\" class=\"data row20 col5\" >-0.019283</td>\n",
       "      <td id=\"T_8b53b_row20_col6\" class=\"data row20 col6\" >0.354133</td>\n",
       "      <td id=\"T_8b53b_row20_col7\" class=\"data row20 col7\" >0.194748</td>\n",
       "      <td id=\"T_8b53b_row20_col8\" class=\"data row20 col8\" >0.309761</td>\n",
       "      <td id=\"T_8b53b_row20_col9\" class=\"data row20 col9\" >0.260762</td>\n",
       "      <td id=\"T_8b53b_row20_col10\" class=\"data row20 col10\" >0.241818</td>\n",
       "      <td id=\"T_8b53b_row20_col11\" class=\"data row20 col11\" >0.166396</td>\n",
       "      <td id=\"T_8b53b_row20_col12\" class=\"data row20 col12\" >-0.123244</td>\n",
       "      <td id=\"T_8b53b_row20_col13\" class=\"data row20 col13\" >0.155143</td>\n",
       "      <td id=\"T_8b53b_row20_col14\" class=\"data row20 col14\" >0.308097</td>\n",
       "      <td id=\"T_8b53b_row20_col15\" class=\"data row20 col15\" >0.183249</td>\n",
       "      <td id=\"T_8b53b_row20_col16\" class=\"data row20 col16\" >-0.192502</td>\n",
       "      <td id=\"T_8b53b_row20_col17\" class=\"data row20 col17\" >0.094751</td>\n",
       "      <td id=\"T_8b53b_row20_col18\" class=\"data row20 col18\" >0.251300</td>\n",
       "      <td id=\"T_8b53b_row20_col19\" class=\"data row20 col19\" >0.403078</td>\n",
       "      <td id=\"T_8b53b_row20_col20\" class=\"data row20 col20\" >1.000000</td>\n",
       "      <td id=\"T_8b53b_row20_col21\" class=\"data row20 col21\" >0.175315</td>\n",
       "      <td id=\"T_8b53b_row20_col22\" class=\"data row20 col22\" >-0.025499</td>\n",
       "      <td id=\"T_8b53b_row20_col23\" class=\"data row20 col23\" >nan</td>\n",
       "      <td id=\"T_8b53b_row20_col24\" class=\"data row20 col24\" >nan</td>\n",
       "      <td id=\"T_8b53b_row20_col25\" class=\"data row20 col25\" >0.293982</td>\n",
       "    </tr>\n",
       "    <tr>\n",
       "      <th id=\"T_8b53b_level0_row21\" class=\"row_heading level0 row21\" >AcceptedCmp2</th>\n",
       "      <td id=\"T_8b53b_row21_col0\" class=\"data row21 col0\" >-0.015061</td>\n",
       "      <td id=\"T_8b53b_row21_col1\" class=\"data row21 col1\" >-0.006539</td>\n",
       "      <td id=\"T_8b53b_row21_col2\" class=\"data row21 col2\" >0.087545</td>\n",
       "      <td id=\"T_8b53b_row21_col3\" class=\"data row21 col3\" >-0.081716</td>\n",
       "      <td id=\"T_8b53b_row21_col4\" class=\"data row21 col4\" >-0.015605</td>\n",
       "      <td id=\"T_8b53b_row21_col5\" class=\"data row21 col5\" >-0.001781</td>\n",
       "      <td id=\"T_8b53b_row21_col6\" class=\"data row21 col6\" >0.205907</td>\n",
       "      <td id=\"T_8b53b_row21_col7\" class=\"data row21 col7\" >-0.009773</td>\n",
       "      <td id=\"T_8b53b_row21_col8\" class=\"data row21 col8\" >0.043033</td>\n",
       "      <td id=\"T_8b53b_row21_col9\" class=\"data row21 col9\" >0.002577</td>\n",
       "      <td id=\"T_8b53b_row21_col10\" class=\"data row21 col10\" >0.009985</td>\n",
       "      <td id=\"T_8b53b_row21_col11\" class=\"data row21 col11\" >0.049990</td>\n",
       "      <td id=\"T_8b53b_row21_col12\" class=\"data row21 col12\" >-0.037695</td>\n",
       "      <td id=\"T_8b53b_row21_col13\" class=\"data row21 col13\" >0.034188</td>\n",
       "      <td id=\"T_8b53b_row21_col14\" class=\"data row21 col14\" >0.099852</td>\n",
       "      <td id=\"T_8b53b_row21_col15\" class=\"data row21 col15\" >0.085189</td>\n",
       "      <td id=\"T_8b53b_row21_col16\" class=\"data row21 col16\" >-0.007196</td>\n",
       "      <td id=\"T_8b53b_row21_col17\" class=\"data row21 col17\" >0.072020</td>\n",
       "      <td id=\"T_8b53b_row21_col18\" class=\"data row21 col18\" >0.292210</td>\n",
       "      <td id=\"T_8b53b_row21_col19\" class=\"data row21 col19\" >0.221533</td>\n",
       "      <td id=\"T_8b53b_row21_col20\" class=\"data row21 col20\" >0.175315</td>\n",
       "      <td id=\"T_8b53b_row21_col21\" class=\"data row21 col21\" >1.000000</td>\n",
       "      <td id=\"T_8b53b_row21_col22\" class=\"data row21 col22\" >-0.011334</td>\n",
       "      <td id=\"T_8b53b_row21_col23\" class=\"data row21 col23\" >nan</td>\n",
       "      <td id=\"T_8b53b_row21_col24\" class=\"data row21 col24\" >nan</td>\n",
       "      <td id=\"T_8b53b_row21_col25\" class=\"data row21 col25\" >0.169293</td>\n",
       "    </tr>\n",
       "    <tr>\n",
       "      <th id=\"T_8b53b_level0_row22\" class=\"row_heading level0 row22\" >Complain</th>\n",
       "      <td id=\"T_8b53b_row22_col0\" class=\"data row22 col0\" >0.033883</td>\n",
       "      <td id=\"T_8b53b_row22_col1\" class=\"data row22 col1\" >-0.030128</td>\n",
       "      <td id=\"T_8b53b_row22_col2\" class=\"data row22 col2\" >-0.027225</td>\n",
       "      <td id=\"T_8b53b_row22_col3\" class=\"data row22 col3\" >0.040207</td>\n",
       "      <td id=\"T_8b53b_row22_col4\" class=\"data row22 col4\" >0.003138</td>\n",
       "      <td id=\"T_8b53b_row22_col5\" class=\"data row22 col5\" >0.013231</td>\n",
       "      <td id=\"T_8b53b_row22_col6\" class=\"data row22 col6\" >-0.039007</td>\n",
       "      <td id=\"T_8b53b_row22_col7\" class=\"data row22 col7\" >-0.005166</td>\n",
       "      <td id=\"T_8b53b_row22_col8\" class=\"data row22 col8\" >-0.023483</td>\n",
       "      <td id=\"T_8b53b_row22_col9\" class=\"data row22 col9\" >-0.020953</td>\n",
       "      <td id=\"T_8b53b_row22_col10\" class=\"data row22 col10\" >-0.022485</td>\n",
       "      <td id=\"T_8b53b_row22_col11\" class=\"data row22 col11\" >-0.030861</td>\n",
       "      <td id=\"T_8b53b_row22_col12\" class=\"data row22 col12\" >0.000420</td>\n",
       "      <td id=\"T_8b53b_row22_col13\" class=\"data row22 col13\" >-0.016310</td>\n",
       "      <td id=\"T_8b53b_row22_col14\" class=\"data row22 col14\" >-0.020453</td>\n",
       "      <td id=\"T_8b53b_row22_col15\" class=\"data row22 col15\" >-0.016524</td>\n",
       "      <td id=\"T_8b53b_row22_col16\" class=\"data row22 col16\" >0.019769</td>\n",
       "      <td id=\"T_8b53b_row22_col17\" class=\"data row22 col17\" >0.008415</td>\n",
       "      <td id=\"T_8b53b_row22_col18\" class=\"data row22 col18\" >-0.027611</td>\n",
       "      <td id=\"T_8b53b_row22_col19\" class=\"data row22 col19\" >-0.009419</td>\n",
       "      <td id=\"T_8b53b_row22_col20\" class=\"data row22 col20\" >-0.025499</td>\n",
       "      <td id=\"T_8b53b_row22_col21\" class=\"data row22 col21\" >-0.011334</td>\n",
       "      <td id=\"T_8b53b_row22_col22\" class=\"data row22 col22\" >1.000000</td>\n",
       "      <td id=\"T_8b53b_row22_col23\" class=\"data row22 col23\" >nan</td>\n",
       "      <td id=\"T_8b53b_row22_col24\" class=\"data row22 col24\" >nan</td>\n",
       "      <td id=\"T_8b53b_row22_col25\" class=\"data row22 col25\" >-0.001707</td>\n",
       "    </tr>\n",
       "    <tr>\n",
       "      <th id=\"T_8b53b_level0_row23\" class=\"row_heading level0 row23\" >Z_CostContact</th>\n",
       "      <td id=\"T_8b53b_row23_col0\" class=\"data row23 col0\" >nan</td>\n",
       "      <td id=\"T_8b53b_row23_col1\" class=\"data row23 col1\" >nan</td>\n",
       "      <td id=\"T_8b53b_row23_col2\" class=\"data row23 col2\" >nan</td>\n",
       "      <td id=\"T_8b53b_row23_col3\" class=\"data row23 col3\" >nan</td>\n",
       "      <td id=\"T_8b53b_row23_col4\" class=\"data row23 col4\" >nan</td>\n",
       "      <td id=\"T_8b53b_row23_col5\" class=\"data row23 col5\" >nan</td>\n",
       "      <td id=\"T_8b53b_row23_col6\" class=\"data row23 col6\" >nan</td>\n",
       "      <td id=\"T_8b53b_row23_col7\" class=\"data row23 col7\" >nan</td>\n",
       "      <td id=\"T_8b53b_row23_col8\" class=\"data row23 col8\" >nan</td>\n",
       "      <td id=\"T_8b53b_row23_col9\" class=\"data row23 col9\" >nan</td>\n",
       "      <td id=\"T_8b53b_row23_col10\" class=\"data row23 col10\" >nan</td>\n",
       "      <td id=\"T_8b53b_row23_col11\" class=\"data row23 col11\" >nan</td>\n",
       "      <td id=\"T_8b53b_row23_col12\" class=\"data row23 col12\" >nan</td>\n",
       "      <td id=\"T_8b53b_row23_col13\" class=\"data row23 col13\" >nan</td>\n",
       "      <td id=\"T_8b53b_row23_col14\" class=\"data row23 col14\" >nan</td>\n",
       "      <td id=\"T_8b53b_row23_col15\" class=\"data row23 col15\" >nan</td>\n",
       "      <td id=\"T_8b53b_row23_col16\" class=\"data row23 col16\" >nan</td>\n",
       "      <td id=\"T_8b53b_row23_col17\" class=\"data row23 col17\" >nan</td>\n",
       "      <td id=\"T_8b53b_row23_col18\" class=\"data row23 col18\" >nan</td>\n",
       "      <td id=\"T_8b53b_row23_col19\" class=\"data row23 col19\" >nan</td>\n",
       "      <td id=\"T_8b53b_row23_col20\" class=\"data row23 col20\" >nan</td>\n",
       "      <td id=\"T_8b53b_row23_col21\" class=\"data row23 col21\" >nan</td>\n",
       "      <td id=\"T_8b53b_row23_col22\" class=\"data row23 col22\" >nan</td>\n",
       "      <td id=\"T_8b53b_row23_col23\" class=\"data row23 col23\" >nan</td>\n",
       "      <td id=\"T_8b53b_row23_col24\" class=\"data row23 col24\" >nan</td>\n",
       "      <td id=\"T_8b53b_row23_col25\" class=\"data row23 col25\" >nan</td>\n",
       "    </tr>\n",
       "    <tr>\n",
       "      <th id=\"T_8b53b_level0_row24\" class=\"row_heading level0 row24\" >Z_Revenue</th>\n",
       "      <td id=\"T_8b53b_row24_col0\" class=\"data row24 col0\" >nan</td>\n",
       "      <td id=\"T_8b53b_row24_col1\" class=\"data row24 col1\" >nan</td>\n",
       "      <td id=\"T_8b53b_row24_col2\" class=\"data row24 col2\" >nan</td>\n",
       "      <td id=\"T_8b53b_row24_col3\" class=\"data row24 col3\" >nan</td>\n",
       "      <td id=\"T_8b53b_row24_col4\" class=\"data row24 col4\" >nan</td>\n",
       "      <td id=\"T_8b53b_row24_col5\" class=\"data row24 col5\" >nan</td>\n",
       "      <td id=\"T_8b53b_row24_col6\" class=\"data row24 col6\" >nan</td>\n",
       "      <td id=\"T_8b53b_row24_col7\" class=\"data row24 col7\" >nan</td>\n",
       "      <td id=\"T_8b53b_row24_col8\" class=\"data row24 col8\" >nan</td>\n",
       "      <td id=\"T_8b53b_row24_col9\" class=\"data row24 col9\" >nan</td>\n",
       "      <td id=\"T_8b53b_row24_col10\" class=\"data row24 col10\" >nan</td>\n",
       "      <td id=\"T_8b53b_row24_col11\" class=\"data row24 col11\" >nan</td>\n",
       "      <td id=\"T_8b53b_row24_col12\" class=\"data row24 col12\" >nan</td>\n",
       "      <td id=\"T_8b53b_row24_col13\" class=\"data row24 col13\" >nan</td>\n",
       "      <td id=\"T_8b53b_row24_col14\" class=\"data row24 col14\" >nan</td>\n",
       "      <td id=\"T_8b53b_row24_col15\" class=\"data row24 col15\" >nan</td>\n",
       "      <td id=\"T_8b53b_row24_col16\" class=\"data row24 col16\" >nan</td>\n",
       "      <td id=\"T_8b53b_row24_col17\" class=\"data row24 col17\" >nan</td>\n",
       "      <td id=\"T_8b53b_row24_col18\" class=\"data row24 col18\" >nan</td>\n",
       "      <td id=\"T_8b53b_row24_col19\" class=\"data row24 col19\" >nan</td>\n",
       "      <td id=\"T_8b53b_row24_col20\" class=\"data row24 col20\" >nan</td>\n",
       "      <td id=\"T_8b53b_row24_col21\" class=\"data row24 col21\" >nan</td>\n",
       "      <td id=\"T_8b53b_row24_col22\" class=\"data row24 col22\" >nan</td>\n",
       "      <td id=\"T_8b53b_row24_col23\" class=\"data row24 col23\" >nan</td>\n",
       "      <td id=\"T_8b53b_row24_col24\" class=\"data row24 col24\" >nan</td>\n",
       "      <td id=\"T_8b53b_row24_col25\" class=\"data row24 col25\" >nan</td>\n",
       "    </tr>\n",
       "    <tr>\n",
       "      <th id=\"T_8b53b_level0_row25\" class=\"row_heading level0 row25\" >Response</th>\n",
       "      <td id=\"T_8b53b_row25_col0\" class=\"data row25 col0\" >-0.021968</td>\n",
       "      <td id=\"T_8b53b_row25_col1\" class=\"data row25 col1\" >0.021325</td>\n",
       "      <td id=\"T_8b53b_row25_col2\" class=\"data row25 col2\" >0.133047</td>\n",
       "      <td id=\"T_8b53b_row25_col3\" class=\"data row25 col3\" >-0.080008</td>\n",
       "      <td id=\"T_8b53b_row25_col4\" class=\"data row25 col4\" >-0.154446</td>\n",
       "      <td id=\"T_8b53b_row25_col5\" class=\"data row25 col5\" >-0.198437</td>\n",
       "      <td id=\"T_8b53b_row25_col6\" class=\"data row25 col6\" >0.247254</td>\n",
       "      <td id=\"T_8b53b_row25_col7\" class=\"data row25 col7\" >0.125289</td>\n",
       "      <td id=\"T_8b53b_row25_col8\" class=\"data row25 col8\" >0.236335</td>\n",
       "      <td id=\"T_8b53b_row25_col9\" class=\"data row25 col9\" >0.111331</td>\n",
       "      <td id=\"T_8b53b_row25_col10\" class=\"data row25 col10\" >0.117372</td>\n",
       "      <td id=\"T_8b53b_row25_col11\" class=\"data row25 col11\" >0.139850</td>\n",
       "      <td id=\"T_8b53b_row25_col12\" class=\"data row25 col12\" >0.002238</td>\n",
       "      <td id=\"T_8b53b_row25_col13\" class=\"data row25 col13\" >0.148730</td>\n",
       "      <td id=\"T_8b53b_row25_col14\" class=\"data row25 col14\" >0.220810</td>\n",
       "      <td id=\"T_8b53b_row25_col15\" class=\"data row25 col15\" >0.039363</td>\n",
       "      <td id=\"T_8b53b_row25_col16\" class=\"data row25 col16\" >-0.003987</td>\n",
       "      <td id=\"T_8b53b_row25_col17\" class=\"data row25 col17\" >0.254258</td>\n",
       "      <td id=\"T_8b53b_row25_col18\" class=\"data row25 col18\" >0.177019</td>\n",
       "      <td id=\"T_8b53b_row25_col19\" class=\"data row25 col19\" >0.326634</td>\n",
       "      <td id=\"T_8b53b_row25_col20\" class=\"data row25 col20\" >0.293982</td>\n",
       "      <td id=\"T_8b53b_row25_col21\" class=\"data row25 col21\" >0.169293</td>\n",
       "      <td id=\"T_8b53b_row25_col22\" class=\"data row25 col22\" >-0.001707</td>\n",
       "      <td id=\"T_8b53b_row25_col23\" class=\"data row25 col23\" >nan</td>\n",
       "      <td id=\"T_8b53b_row25_col24\" class=\"data row25 col24\" >nan</td>\n",
       "      <td id=\"T_8b53b_row25_col25\" class=\"data row25 col25\" >1.000000</td>\n",
       "    </tr>\n",
       "  </tbody>\n",
       "</table>\n"
      ],
      "text/plain": [
       "<pandas.io.formats.style.Styler at 0x2ac00feb2b0>"
      ]
     },
     "execution_count": 6,
     "metadata": {},
     "output_type": "execute_result"
    }
   ],
   "source": [
    "corr = marketingCampaign.corr()\n",
    "corr.style.background_gradient(cmap='RdYlGn')"
   ]
  },
  {
   "cell_type": "code",
   "execution_count": 7,
   "metadata": {
    "colab": {
     "base_uri": "https://localhost:8080/",
     "height": 488
    },
    "id": "qgYEqNHFdx58",
    "outputId": "8a3f900f-d289-4cb1-f79f-06cb9f9689d3"
   },
   "outputs": [
    {
     "data": {
      "text/html": [
       "<div>\n",
       "<style scoped>\n",
       "    .dataframe tbody tr th:only-of-type {\n",
       "        vertical-align: middle;\n",
       "    }\n",
       "\n",
       "    .dataframe tbody tr th {\n",
       "        vertical-align: top;\n",
       "    }\n",
       "\n",
       "    .dataframe thead th {\n",
       "        text-align: right;\n",
       "    }\n",
       "</style>\n",
       "<table border=\"1\" class=\"dataframe\">\n",
       "  <thead>\n",
       "    <tr style=\"text-align: right;\">\n",
       "      <th></th>\n",
       "      <th>ID</th>\n",
       "      <th>Year_Birth</th>\n",
       "      <th>Education</th>\n",
       "      <th>Marital_Status</th>\n",
       "      <th>Income</th>\n",
       "      <th>Kidhome</th>\n",
       "      <th>Teenhome</th>\n",
       "      <th>Dt_Customer</th>\n",
       "      <th>Recency</th>\n",
       "      <th>MntWines</th>\n",
       "      <th>...</th>\n",
       "      <th>NumWebVisitsMonth</th>\n",
       "      <th>AcceptedCmp3</th>\n",
       "      <th>AcceptedCmp4</th>\n",
       "      <th>AcceptedCmp5</th>\n",
       "      <th>AcceptedCmp1</th>\n",
       "      <th>AcceptedCmp2</th>\n",
       "      <th>Complain</th>\n",
       "      <th>Z_CostContact</th>\n",
       "      <th>Z_Revenue</th>\n",
       "      <th>Response</th>\n",
       "    </tr>\n",
       "  </thead>\n",
       "  <tbody>\n",
       "    <tr>\n",
       "      <th>0</th>\n",
       "      <td>5524</td>\n",
       "      <td>1957</td>\n",
       "      <td>Graduation</td>\n",
       "      <td>Single</td>\n",
       "      <td>58138.0</td>\n",
       "      <td>0</td>\n",
       "      <td>0</td>\n",
       "      <td>2012-09-04</td>\n",
       "      <td>58</td>\n",
       "      <td>635</td>\n",
       "      <td>...</td>\n",
       "      <td>7</td>\n",
       "      <td>0</td>\n",
       "      <td>0</td>\n",
       "      <td>0</td>\n",
       "      <td>0</td>\n",
       "      <td>0</td>\n",
       "      <td>0</td>\n",
       "      <td>3</td>\n",
       "      <td>11</td>\n",
       "      <td>1</td>\n",
       "    </tr>\n",
       "    <tr>\n",
       "      <th>8</th>\n",
       "      <td>4855</td>\n",
       "      <td>1974</td>\n",
       "      <td>PhD</td>\n",
       "      <td>Together</td>\n",
       "      <td>30351.0</td>\n",
       "      <td>1</td>\n",
       "      <td>0</td>\n",
       "      <td>2013-06-06</td>\n",
       "      <td>19</td>\n",
       "      <td>14</td>\n",
       "      <td>...</td>\n",
       "      <td>9</td>\n",
       "      <td>0</td>\n",
       "      <td>0</td>\n",
       "      <td>0</td>\n",
       "      <td>0</td>\n",
       "      <td>0</td>\n",
       "      <td>0</td>\n",
       "      <td>3</td>\n",
       "      <td>11</td>\n",
       "      <td>1</td>\n",
       "    </tr>\n",
       "    <tr>\n",
       "      <th>15</th>\n",
       "      <td>2114</td>\n",
       "      <td>1946</td>\n",
       "      <td>PhD</td>\n",
       "      <td>Single</td>\n",
       "      <td>82800.0</td>\n",
       "      <td>0</td>\n",
       "      <td>0</td>\n",
       "      <td>2012-11-24</td>\n",
       "      <td>23</td>\n",
       "      <td>1006</td>\n",
       "      <td>...</td>\n",
       "      <td>3</td>\n",
       "      <td>0</td>\n",
       "      <td>0</td>\n",
       "      <td>1</td>\n",
       "      <td>1</td>\n",
       "      <td>0</td>\n",
       "      <td>0</td>\n",
       "      <td>3</td>\n",
       "      <td>11</td>\n",
       "      <td>1</td>\n",
       "    </tr>\n",
       "    <tr>\n",
       "      <th>33</th>\n",
       "      <td>7373</td>\n",
       "      <td>1952</td>\n",
       "      <td>PhD</td>\n",
       "      <td>Divorced</td>\n",
       "      <td>46610.0</td>\n",
       "      <td>0</td>\n",
       "      <td>2</td>\n",
       "      <td>2012-10-29</td>\n",
       "      <td>8</td>\n",
       "      <td>96</td>\n",
       "      <td>...</td>\n",
       "      <td>6</td>\n",
       "      <td>0</td>\n",
       "      <td>0</td>\n",
       "      <td>0</td>\n",
       "      <td>0</td>\n",
       "      <td>0</td>\n",
       "      <td>0</td>\n",
       "      <td>3</td>\n",
       "      <td>11</td>\n",
       "      <td>1</td>\n",
       "    </tr>\n",
       "    <tr>\n",
       "      <th>39</th>\n",
       "      <td>2968</td>\n",
       "      <td>1943</td>\n",
       "      <td>PhD</td>\n",
       "      <td>Divorced</td>\n",
       "      <td>48948.0</td>\n",
       "      <td>0</td>\n",
       "      <td>0</td>\n",
       "      <td>2013-02-01</td>\n",
       "      <td>53</td>\n",
       "      <td>437</td>\n",
       "      <td>...</td>\n",
       "      <td>6</td>\n",
       "      <td>1</td>\n",
       "      <td>0</td>\n",
       "      <td>0</td>\n",
       "      <td>0</td>\n",
       "      <td>0</td>\n",
       "      <td>0</td>\n",
       "      <td>3</td>\n",
       "      <td>11</td>\n",
       "      <td>1</td>\n",
       "    </tr>\n",
       "    <tr>\n",
       "      <th>...</th>\n",
       "      <td>...</td>\n",
       "      <td>...</td>\n",
       "      <td>...</td>\n",
       "      <td>...</td>\n",
       "      <td>...</td>\n",
       "      <td>...</td>\n",
       "      <td>...</td>\n",
       "      <td>...</td>\n",
       "      <td>...</td>\n",
       "      <td>...</td>\n",
       "      <td>...</td>\n",
       "      <td>...</td>\n",
       "      <td>...</td>\n",
       "      <td>...</td>\n",
       "      <td>...</td>\n",
       "      <td>...</td>\n",
       "      <td>...</td>\n",
       "      <td>...</td>\n",
       "      <td>...</td>\n",
       "      <td>...</td>\n",
       "      <td>...</td>\n",
       "    </tr>\n",
       "    <tr>\n",
       "      <th>2194</th>\n",
       "      <td>7118</td>\n",
       "      <td>1957</td>\n",
       "      <td>Graduation</td>\n",
       "      <td>Married</td>\n",
       "      <td>73803.0</td>\n",
       "      <td>0</td>\n",
       "      <td>1</td>\n",
       "      <td>2012-08-01</td>\n",
       "      <td>61</td>\n",
       "      <td>833</td>\n",
       "      <td>...</td>\n",
       "      <td>6</td>\n",
       "      <td>1</td>\n",
       "      <td>0</td>\n",
       "      <td>0</td>\n",
       "      <td>0</td>\n",
       "      <td>0</td>\n",
       "      <td>0</td>\n",
       "      <td>3</td>\n",
       "      <td>11</td>\n",
       "      <td>1</td>\n",
       "    </tr>\n",
       "    <tr>\n",
       "      <th>2198</th>\n",
       "      <td>2632</td>\n",
       "      <td>1954</td>\n",
       "      <td>Graduation</td>\n",
       "      <td>Married</td>\n",
       "      <td>50501.0</td>\n",
       "      <td>1</td>\n",
       "      <td>1</td>\n",
       "      <td>2013-06-18</td>\n",
       "      <td>10</td>\n",
       "      <td>297</td>\n",
       "      <td>...</td>\n",
       "      <td>6</td>\n",
       "      <td>1</td>\n",
       "      <td>0</td>\n",
       "      <td>0</td>\n",
       "      <td>0</td>\n",
       "      <td>0</td>\n",
       "      <td>0</td>\n",
       "      <td>3</td>\n",
       "      <td>11</td>\n",
       "      <td>1</td>\n",
       "    </tr>\n",
       "    <tr>\n",
       "      <th>2202</th>\n",
       "      <td>11133</td>\n",
       "      <td>1973</td>\n",
       "      <td>PhD</td>\n",
       "      <td>YOLO</td>\n",
       "      <td>48432.0</td>\n",
       "      <td>0</td>\n",
       "      <td>1</td>\n",
       "      <td>2012-10-18</td>\n",
       "      <td>3</td>\n",
       "      <td>322</td>\n",
       "      <td>...</td>\n",
       "      <td>8</td>\n",
       "      <td>0</td>\n",
       "      <td>0</td>\n",
       "      <td>0</td>\n",
       "      <td>0</td>\n",
       "      <td>0</td>\n",
       "      <td>0</td>\n",
       "      <td>3</td>\n",
       "      <td>11</td>\n",
       "      <td>1</td>\n",
       "    </tr>\n",
       "    <tr>\n",
       "      <th>2221</th>\n",
       "      <td>7366</td>\n",
       "      <td>1982</td>\n",
       "      <td>Master</td>\n",
       "      <td>Single</td>\n",
       "      <td>75777.0</td>\n",
       "      <td>0</td>\n",
       "      <td>0</td>\n",
       "      <td>2013-07-04</td>\n",
       "      <td>12</td>\n",
       "      <td>712</td>\n",
       "      <td>...</td>\n",
       "      <td>1</td>\n",
       "      <td>0</td>\n",
       "      <td>1</td>\n",
       "      <td>1</td>\n",
       "      <td>0</td>\n",
       "      <td>0</td>\n",
       "      <td>0</td>\n",
       "      <td>3</td>\n",
       "      <td>11</td>\n",
       "      <td>1</td>\n",
       "    </tr>\n",
       "    <tr>\n",
       "      <th>2239</th>\n",
       "      <td>9405</td>\n",
       "      <td>1954</td>\n",
       "      <td>PhD</td>\n",
       "      <td>Married</td>\n",
       "      <td>52869.0</td>\n",
       "      <td>1</td>\n",
       "      <td>1</td>\n",
       "      <td>2012-10-15</td>\n",
       "      <td>40</td>\n",
       "      <td>84</td>\n",
       "      <td>...</td>\n",
       "      <td>7</td>\n",
       "      <td>0</td>\n",
       "      <td>0</td>\n",
       "      <td>0</td>\n",
       "      <td>0</td>\n",
       "      <td>0</td>\n",
       "      <td>0</td>\n",
       "      <td>3</td>\n",
       "      <td>11</td>\n",
       "      <td>1</td>\n",
       "    </tr>\n",
       "  </tbody>\n",
       "</table>\n",
       "<p>334 rows × 29 columns</p>\n",
       "</div>"
      ],
      "text/plain": [
       "         ID  Year_Birth   Education Marital_Status   Income  Kidhome  \\\n",
       "0      5524        1957  Graduation         Single  58138.0        0   \n",
       "8      4855        1974         PhD       Together  30351.0        1   \n",
       "15     2114        1946         PhD         Single  82800.0        0   \n",
       "33     7373        1952         PhD       Divorced  46610.0        0   \n",
       "39     2968        1943         PhD       Divorced  48948.0        0   \n",
       "...     ...         ...         ...            ...      ...      ...   \n",
       "2194   7118        1957  Graduation        Married  73803.0        0   \n",
       "2198   2632        1954  Graduation        Married  50501.0        1   \n",
       "2202  11133        1973         PhD           YOLO  48432.0        0   \n",
       "2221   7366        1982      Master         Single  75777.0        0   \n",
       "2239   9405        1954         PhD        Married  52869.0        1   \n",
       "\n",
       "      Teenhome Dt_Customer  Recency  MntWines  ...  NumWebVisitsMonth  \\\n",
       "0            0  2012-09-04       58       635  ...                  7   \n",
       "8            0  2013-06-06       19        14  ...                  9   \n",
       "15           0  2012-11-24       23      1006  ...                  3   \n",
       "33           2  2012-10-29        8        96  ...                  6   \n",
       "39           0  2013-02-01       53       437  ...                  6   \n",
       "...        ...         ...      ...       ...  ...                ...   \n",
       "2194         1  2012-08-01       61       833  ...                  6   \n",
       "2198         1  2013-06-18       10       297  ...                  6   \n",
       "2202         1  2012-10-18        3       322  ...                  8   \n",
       "2221         0  2013-07-04       12       712  ...                  1   \n",
       "2239         1  2012-10-15       40        84  ...                  7   \n",
       "\n",
       "      AcceptedCmp3  AcceptedCmp4  AcceptedCmp5  AcceptedCmp1  AcceptedCmp2  \\\n",
       "0                0             0             0             0             0   \n",
       "8                0             0             0             0             0   \n",
       "15               0             0             1             1             0   \n",
       "33               0             0             0             0             0   \n",
       "39               1             0             0             0             0   \n",
       "...            ...           ...           ...           ...           ...   \n",
       "2194             1             0             0             0             0   \n",
       "2198             1             0             0             0             0   \n",
       "2202             0             0             0             0             0   \n",
       "2221             0             1             1             0             0   \n",
       "2239             0             0             0             0             0   \n",
       "\n",
       "      Complain  Z_CostContact  Z_Revenue  Response  \n",
       "0            0              3         11         1  \n",
       "8            0              3         11         1  \n",
       "15           0              3         11         1  \n",
       "33           0              3         11         1  \n",
       "39           0              3         11         1  \n",
       "...        ...            ...        ...       ...  \n",
       "2194         0              3         11         1  \n",
       "2198         0              3         11         1  \n",
       "2202         0              3         11         1  \n",
       "2221         0              3         11         1  \n",
       "2239         0              3         11         1  \n",
       "\n",
       "[334 rows x 29 columns]"
      ]
     },
     "execution_count": 7,
     "metadata": {},
     "output_type": "execute_result"
    }
   ],
   "source": [
    "marketingCampaign.loc[marketingCampaign['Response'] == 1]"
   ]
  },
  {
   "cell_type": "code",
   "execution_count": 8,
   "metadata": {
    "colab": {
     "base_uri": "https://localhost:8080/",
     "height": 309
    },
    "id": "ZVhoaV0Bdxzz",
    "outputId": "aff3f84c-f6bb-4c24-9891-e19e250a66ba"
   },
   "outputs": [
    {
     "data": {
      "text/plain": [
       "Text(0.5, 1.0, 'Bar Plot of Responses')"
      ]
     },
     "execution_count": 8,
     "metadata": {},
     "output_type": "execute_result"
    },
    {
     "data": {
      "image/png": "[encoded data removed]",
      "text/plain": [
       "<Figure size 432x288 with 1 Axes>"
      ]
     },
     "metadata": {
      "needs_background": "light"
     },
     "output_type": "display_data"
    }
   ],
   "source": [
    "marketingCampaign['Response'].value_counts().plot(kind = 'bar')\n",
    "plt.xlabel('Response')\n",
    "plt.ylabel('Count')\n",
    "plt.title('Bar Plot of Responses')"
   ]
  },
  {
   "cell_type": "code",
   "execution_count": 9,
   "metadata": {
    "colab": {
     "base_uri": "https://localhost:8080/",
     "height": 309
    },
    "id": "ARYB5OSIdxwg",
    "outputId": "314dc6e6-1817-4d59-d3bb-ca720f501882"
   },
   "outputs": [
    {
     "data": {
      "text/plain": [
       "Text(0.5, 1.0, 'Bar Plot of Response to Campaign #1')"
      ]
     },
     "execution_count": 9,
     "metadata": {},
     "output_type": "execute_result"
    },
    {
     "data": {
      "image/png": "[encoded data removed]",
      "text/plain": [
       "<Figure size 432x288 with 1 Axes>"
      ]
     },
     "metadata": {
      "needs_background": "light"
     },
     "output_type": "display_data"
    }
   ],
   "source": [
    "marketingCampaign['AcceptedCmp1'].value_counts().plot(kind = 'bar')\n",
    "plt.xlabel('Response')\n",
    "plt.ylabel('Count')\n",
    "plt.title('Bar Plot of Response to Campaign #1')"
   ]
  },
  {
   "cell_type": "code",
   "execution_count": 10,
   "metadata": {
    "colab": {
     "base_uri": "https://localhost:8080/",
     "height": 309
    },
    "id": "kDziRbk9dxtQ",
    "outputId": "b2c19874-d2a2-4d56-b8c9-492365d730b1"
   },
   "outputs": [
    {
     "data": {
      "text/plain": [
       "Text(0.5, 1.0, 'Bar Plot of Response to Campaign #2')"
      ]
     },
     "execution_count": 10,
     "metadata": {},
     "output_type": "execute_result"
    },
    {
     "data": {
      "image/png": "[encoded data removed]",
      "text/plain": [
       "<Figure size 432x288 with 1 Axes>"
      ]
     },
     "metadata": {
      "needs_background": "light"
     },
     "output_type": "display_data"
    }
   ],
   "source": [
    "marketingCampaign['AcceptedCmp2'].value_counts().plot(kind = 'bar')\n",
    "plt.xlabel('Response')\n",
    "plt.ylabel('Count')\n",
    "plt.title('Bar Plot of Response to Campaign #2')"
   ]
  },
  {
   "cell_type": "code",
   "execution_count": 11,
   "metadata": {
    "colab": {
     "base_uri": "https://localhost:8080/",
     "height": 309
    },
    "id": "ML9HvBXvdxp4",
    "outputId": "bcf86443-2fa6-413d-e5f3-8eb0221a93b9"
   },
   "outputs": [
    {
     "data": {
      "text/plain": [
       "Text(0.5, 1.0, 'Bar Plot of Response to Campaign #3')"
      ]
     },
     "execution_count": 11,
     "metadata": {},
     "output_type": "execute_result"
    },
    {
     "data": {
      "image/png": "[encoded data removed]",
      "text/plain": [
       "<Figure size 432x288 with 1 Axes>"
      ]
     },
     "metadata": {
      "needs_background": "light"
     },
     "output_type": "display_data"
    }
   ],
   "source": [
    "marketingCampaign['AcceptedCmp3'].value_counts().plot(kind = 'bar')\n",
    "plt.xlabel('Response')\n",
    "plt.ylabel('Count')\n",
    "plt.title('Bar Plot of Response to Campaign #3')"
   ]
  },
  {
   "cell_type": "code",
   "execution_count": 12,
   "metadata": {
    "colab": {
     "base_uri": "https://localhost:8080/",
     "height": 309
    },
    "id": "c940P6Sxdxm5",
    "outputId": "790c1b3e-291f-4006-9a0a-6f2206638683"
   },
   "outputs": [
    {
     "data": {
      "text/plain": [
       "Text(0.5, 1.0, 'Bar Plot of Response to Campaign #4')"
      ]
     },
     "execution_count": 12,
     "metadata": {},
     "output_type": "execute_result"
    },
    {
     "data": {
      "image/png": "[encoded data removed]",
      "text/plain": [
       "<Figure size 432x288 with 1 Axes>"
      ]
     },
     "metadata": {
      "needs_background": "light"
     },
     "output_type": "display_data"
    }
   ],
   "source": [
    "marketingCampaign['AcceptedCmp4'].value_counts().plot(kind = 'bar')\n",
    "plt.xlabel('Response')\n",
    "plt.ylabel('Count')\n",
    "plt.title('Bar Plot of Response to Campaign #4')"
   ]
  },
  {
   "cell_type": "code",
   "execution_count": 13,
   "metadata": {
    "colab": {
     "base_uri": "https://localhost:8080/",
     "height": 309
    },
    "id": "0tFl7NVTdxjX",
    "outputId": "67936c52-c38b-48e6-be8d-53b333173c94"
   },
   "outputs": [
    {
     "data": {
      "text/plain": [
       "Text(0.5, 1.0, 'Bar Plot of Response to Campaign #5')"
      ]
     },
     "execution_count": 13,
     "metadata": {},
     "output_type": "execute_result"
    },
    {
     "data": {
      "image/png": "[encoded data removed]",
      "text/plain": [
       "<Figure size 432x288 with 1 Axes>"
      ]
     },
     "metadata": {
      "needs_background": "light"
     },
     "output_type": "display_data"
    }
   ],
   "source": [
    "marketingCampaign['AcceptedCmp5'].value_counts().plot(kind = 'bar')\n",
    "plt.xlabel('Response')\n",
    "plt.ylabel('Count')\n",
    "plt.title('Bar Plot of Response to Campaign #5')"
   ]
  },
  {
   "cell_type": "code",
   "execution_count": 14,
   "metadata": {
    "colab": {
     "base_uri": "https://localhost:8080/",
     "height": 312
    },
    "id": "a_ZT7vq3dxf-",
    "outputId": "07bb863a-b6a7-4fc8-e3a4-285ce1e5b2b5"
   },
   "outputs": [
    {
     "data": {
      "text/plain": [
       "Text(0.5, 1.0, 'Education Distribution')"
      ]
     },
     "execution_count": 14,
     "metadata": {},
     "output_type": "execute_result"
    },
    {
     "data": {
      "image/png": "[encoded data removed]",
      "text/plain": [
       "<Figure size 432x288 with 1 Axes>"
      ]
     },
     "metadata": {
      "needs_background": "light"
     },
     "output_type": "display_data"
    }
   ],
   "source": [
    "n, bins, patches = plt.hist(x=marketingCampaign['Education'], bins='auto')\n",
    "plt.xlabel('Education')\n",
    "plt.ylabel('Frequency')\n",
    "plt.title('Education Distribution')"
   ]
  },
  {
   "cell_type": "code",
   "execution_count": 15,
   "metadata": {
    "colab": {
     "base_uri": "https://localhost:8080/",
     "height": 313
    },
    "id": "aMLu7NVQdxcv",
    "outputId": "795733a2-4d33-4920-87e4-1de5036c30b5"
   },
   "outputs": [
    {
     "data": {
      "text/plain": [
       "Text(0.5, 1.0, 'Marital Status Distribution')"
      ]
     },
     "execution_count": 15,
     "metadata": {},
     "output_type": "execute_result"
    },
    {
     "data": {
      "image/png": "[encoded data removed]",
      "text/plain": [
       "<Figure size 432x288 with 1 Axes>"
      ]
     },
     "metadata": {
      "needs_background": "light"
     },
     "output_type": "display_data"
    }
   ],
   "source": [
    "n, bins, patches = plt.hist(x=marketingCampaign['Marital_Status'], bins='auto')\n",
    "plt.xlabel('Marital_Status')\n",
    "plt.ylabel('Frequency')\n",
    "plt.title('Marital Status Distribution')"
   ]
  },
  {
   "cell_type": "code",
   "execution_count": 16,
   "metadata": {
    "colab": {
     "base_uri": "https://localhost:8080/",
     "height": 312
    },
    "id": "n-NjBQOhdxZd",
    "outputId": "16d63b4e-6f9b-4820-9298-f45ded64b3bb"
   },
   "outputs": [
    {
     "data": {
      "text/plain": [
       "Text(0.5, 1.0, 'Income Distribution')"
      ]
     },
     "execution_count": 16,
     "metadata": {},
     "output_type": "execute_result"
    },
    {
     "data": {
      "image/png": "[encoded data removed]",
      "text/plain": [
       "<Figure size 432x288 with 1 Axes>"
      ]
     },
     "metadata": {
      "needs_background": "light"
     },
     "output_type": "display_data"
    }
   ],
   "source": [
    "n, bins, patches = plt.hist(x=marketingCampaign['Income'], bins='auto')\n",
    "plt.xlabel('Income')\n",
    "plt.ylabel('Frequency')\n",
    "plt.title('Income Distribution')"
   ]
  },
  {
   "cell_type": "code",
   "execution_count": 17,
   "metadata": {
    "colab": {
     "base_uri": "https://localhost:8080/",
     "height": 312
    },
    "id": "x0RUnKS6dxV8",
    "outputId": "b2f3ac80-6d0c-481f-d8e9-2426c91f31b4"
   },
   "outputs": [
    {
     "data": {
      "text/plain": [
       "Text(0.5, 1.0, 'Kidhome Distribution')"
      ]
     },
     "execution_count": 17,
     "metadata": {},
     "output_type": "execute_result"
    },
    {
     "data": {
      "image/png": "[encoded data removed]",
      "text/plain": [
       "<Figure size 432x288 with 1 Axes>"
      ]
     },
     "metadata": {
      "needs_background": "light"
     },
     "output_type": "display_data"
    }
   ],
   "source": [
    "n, bins, patches = plt.hist(x=marketingCampaign['Kidhome'], bins='auto')\n",
    "plt.xlabel('Kidhome')\n",
    "plt.ylabel('Frequency')\n",
    "plt.title('Kidhome Distribution')"
   ]
  },
  {
   "cell_type": "code",
   "execution_count": 18,
   "metadata": {
    "colab": {
     "base_uri": "https://localhost:8080/",
     "height": 312
    },
    "id": "BL8TDl_YdxS0",
    "outputId": "de8a4ecf-519d-4410-c048-7c8201c9b924"
   },
   "outputs": [
    {
     "data": {
      "text/plain": [
       "Text(0.5, 1.0, 'Teenhome Distribution')"
      ]
     },
     "execution_count": 18,
     "metadata": {},
     "output_type": "execute_result"
    },
    {
     "data": {
      "image/png": "[encoded data removed]",
      "text/plain": [
       "<Figure size 432x288 with 1 Axes>"
      ]
     },
     "metadata": {
      "needs_background": "light"
     },
     "output_type": "display_data"
    }
   ],
   "source": [
    "n, bins, patches = plt.hist(x=marketingCampaign['Teenhome'], bins='auto')\n",
    "plt.xlabel('Teenhome')\n",
    "plt.ylabel('Frequency')\n",
    "plt.title('Teenhome Distribution')"
   ]
  },
  {
   "cell_type": "code",
   "execution_count": 19,
   "metadata": {
    "colab": {
     "base_uri": "https://localhost:8080/",
     "height": 312
    },
    "id": "h0ZEY3A6dxPc",
    "outputId": "960b696e-2262-4437-d3c7-f1194f3fedc3"
   },
   "outputs": [
    {
     "data": {
      "text/plain": [
       "Text(0.5, 1.0, 'Recency, since last purchase, Distribution')"
      ]
     },
     "execution_count": 19,
     "metadata": {},
     "output_type": "execute_result"
    },
    {
     "data": {
      "image/png": "[encoded data removed]",
      "text/plain": [
       "<Figure size 432x288 with 1 Axes>"
      ]
     },
     "metadata": {
      "needs_background": "light"
     },
     "output_type": "display_data"
    }
   ],
   "source": [
    "n, bins, patches = plt.hist(x=marketingCampaign['Recency'], bins='auto')\n",
    "plt.xlabel('Recency')\n",
    "plt.ylabel('Frequency')\n",
    "plt.title('Recency, since last purchase, Distribution')"
   ]
  },
  {
   "cell_type": "code",
   "execution_count": 20,
   "metadata": {
    "colab": {
     "base_uri": "https://localhost:8080/",
     "height": 312
    },
    "id": "a15G1QDKdxL-",
    "outputId": "f7441bf5-d5f2-42ae-b8f6-6fe097f761d9"
   },
   "outputs": [
    {
     "data": {
      "text/plain": [
       "Text(0.5, 1.0, 'Amount Spent on Wine Distribution')"
      ]
     },
     "execution_count": 20,
     "metadata": {},
     "output_type": "execute_result"
    },
    {
     "data": {
      "image/png": "[encoded data removed]",
      "text/plain": [
       "<Figure size 432x288 with 1 Axes>"
      ]
     },
     "metadata": {
      "needs_background": "light"
     },
     "output_type": "display_data"
    }
   ],
   "source": [
    "n, bins, patches = plt.hist(x=marketingCampaign['MntWines'], bins='auto')\n",
    "plt.xlabel('MntWines')\n",
    "plt.ylabel('Frequency')\n",
    "plt.title('Amount Spent on Wine Distribution')"
   ]
  },
  {
   "cell_type": "code",
   "execution_count": 21,
   "metadata": {
    "colab": {
     "base_uri": "https://localhost:8080/",
     "height": 312
    },
    "id": "vlYPDNW5dxIo",
    "outputId": "1e25cb53-6f9a-409e-be12-6c089cdf0e12"
   },
   "outputs": [
    {
     "data": {
      "text/plain": [
       "Text(0.5, 1.0, 'Amount Spent on Fruit Distribution')"
      ]
     },
     "execution_count": 21,
     "metadata": {},
     "output_type": "execute_result"
    },
    {
     "data": {
      "image/png": "[encoded data removed]",
      "text/plain": [
       "<Figure size 432x288 with 1 Axes>"
      ]
     },
     "metadata": {
      "needs_background": "light"
     },
     "output_type": "display_data"
    }
   ],
   "source": [
    "n, bins, patches = plt.hist(x=marketingCampaign['MntFruits'], bins='auto')\n",
    "plt.xlabel('MntFruits')\n",
    "plt.ylabel('Frequency')\n",
    "plt.title('Amount Spent on Fruit Distribution')"
   ]
  },
  {
   "cell_type": "code",
   "execution_count": 22,
   "metadata": {
    "colab": {
     "base_uri": "https://localhost:8080/",
     "height": 312
    },
    "id": "aMv_xvJ_dxEi",
    "outputId": "f573f89e-51d6-447c-f88d-6440ebc8778e"
   },
   "outputs": [
    {
     "data": {
      "text/plain": [
       "Text(0.5, 1.0, 'Amount Spent on Meat Products Distribution')"
      ]
     },
     "execution_count": 22,
     "metadata": {},
     "output_type": "execute_result"
    },
    {
     "data": {
      "image/png": "[encoded data removed]",
      "text/plain": [
       "<Figure size 432x288 with 1 Axes>"
      ]
     },
     "metadata": {
      "needs_background": "light"
     },
     "output_type": "display_data"
    }
   ],
   "source": [
    "n, bins, patches = plt.hist(x=marketingCampaign['MntMeatProducts'], bins='auto')\n",
    "plt.xlabel('MntMeatProducts')\n",
    "plt.ylabel('Frequency')\n",
    "plt.title('Amount Spent on Meat Products Distribution')"
   ]
  },
  {
   "cell_type": "code",
   "execution_count": 23,
   "metadata": {
    "colab": {
     "base_uri": "https://localhost:8080/",
     "height": 312
    },
    "id": "Gyol6P06dxAz",
    "outputId": "96c3482f-5f02-48f4-dc67-2def98346a9a"
   },
   "outputs": [
    {
     "data": {
      "text/plain": [
       "Text(0.5, 1.0, 'Amount Spent on Fish Products Distribution')"
      ]
     },
     "execution_count": 23,
     "metadata": {},
     "output_type": "execute_result"
    },
    {
     "data": {
      "image/png": "[encoded data removed]",
      "text/plain": [
       "<Figure size 432x288 with 1 Axes>"
      ]
     },
     "metadata": {
      "needs_background": "light"
     },
     "output_type": "display_data"
    }
   ],
   "source": [
    "n, bins, patches = plt.hist(x=marketingCampaign['MntFishProducts'], bins='auto')\n",
    "plt.xlabel('MntFishProducts')\n",
    "plt.ylabel('Frequency')\n",
    "plt.title('Amount Spent on Fish Products Distribution')"
   ]
  },
  {
   "cell_type": "code",
   "execution_count": 24,
   "metadata": {
    "colab": {
     "base_uri": "https://localhost:8080/",
     "height": 312
    },
    "id": "1T2xM2QufKRG",
    "outputId": "b00f7491-799f-4cdc-ef57-08707e9558f4"
   },
   "outputs": [
    {
     "data": {
      "text/plain": [
       "Text(0.5, 1.0, 'Amount Spent on Sweet Products Distribution')"
      ]
     },
     "execution_count": 24,
     "metadata": {},
     "output_type": "execute_result"
    },
    {
     "data": {
      "image/png": "[encoded data removed]",
      "text/plain": [
       "<Figure size 432x288 with 1 Axes>"
      ]
     },
     "metadata": {
      "needs_background": "light"
     },
     "output_type": "display_data"
    }
   ],
   "source": [
    "n, bins, patches = plt.hist(x=marketingCampaign['MntSweetProducts'], bins='auto')\n",
    "plt.xlabel('MntSweetProducts')\n",
    "plt.ylabel('Frequency')\n",
    "plt.title('Amount Spent on Sweet Products Distribution')"
   ]
  },
  {
   "cell_type": "code",
   "execution_count": 25,
   "metadata": {
    "colab": {
     "base_uri": "https://localhost:8080/",
     "height": 312
    },
    "id": "re_fRrVbfKk6",
    "outputId": "2274de13-f657-4c6f-deaa-37814bfdfb95"
   },
   "outputs": [
    {
     "data": {
      "text/plain": [
       "Text(0.5, 1.0, 'Amount Spent on Gold Products Distribution')"
      ]
     },
     "execution_count": 25,
     "metadata": {},
     "output_type": "execute_result"
    },
    {
     "data": {
      "image/png": "[encoded data removed]",
      "text/plain": [
       "<Figure size 432x288 with 1 Axes>"
      ]
     },
     "metadata": {
      "needs_background": "light"
     },
     "output_type": "display_data"
    }
   ],
   "source": [
    "n, bins, patches = plt.hist(x=marketingCampaign['MntGoldProds'], bins='auto')\n",
    "plt.xlabel('MntGoldProds')\n",
    "plt.ylabel('Frequency')\n",
    "plt.title('Amount Spent on Gold Products Distribution')"
   ]
  },
  {
   "cell_type": "code",
   "execution_count": 26,
   "metadata": {
    "colab": {
     "base_uri": "https://localhost:8080/",
     "height": 312
    },
    "id": "pL3vCAQ_fKyt",
    "outputId": "d7d7e41e-958d-40ac-ab9b-288778038ec9"
   },
   "outputs": [
    {
     "data": {
      "text/plain": [
       "Text(0.5, 1.0, 'Distribution of Purchases Made with a Deal')"
      ]
     },
     "execution_count": 26,
     "metadata": {},
     "output_type": "execute_result"
    },
    {
     "data": {
      "image/png": "[encoded data removed]",
      "text/plain": [
       "<Figure size 432x288 with 1 Axes>"
      ]
     },
     "metadata": {
      "needs_background": "light"
     },
     "output_type": "display_data"
    }
   ],
   "source": [
    "n, bins, patches = plt.hist(x=marketingCampaign['NumDealsPurchases'], bins='auto')\n",
    "plt.xlabel('NumDealsPurchases')\n",
    "plt.ylabel('Frequency')\n",
    "plt.title('Distribution of Purchases Made with a Deal')"
   ]
  },
  {
   "cell_type": "code",
   "execution_count": 27,
   "metadata": {
    "colab": {
     "base_uri": "https://localhost:8080/",
     "height": 312
    },
    "id": "kRzZF9mQfLAD",
    "outputId": "c4af70ef-0fb7-4736-89d2-0daf3ed63994"
   },
   "outputs": [
    {
     "data": {
      "text/plain": [
       "Text(0.5, 1.0, 'Distribution of Purchases Made Online')"
      ]
     },
     "execution_count": 27,
     "metadata": {},
     "output_type": "execute_result"
    },
    {
     "data": {
      "image/png": "[encoded data removed]",
      "text/plain": [
       "<Figure size 432x288 with 1 Axes>"
      ]
     },
     "metadata": {
      "needs_background": "light"
     },
     "output_type": "display_data"
    }
   ],
   "source": [
    "n, bins, patches = plt.hist(x=marketingCampaign['NumWebPurchases'], bins='auto')\n",
    "plt.xlabel('NumWebPurchases')\n",
    "plt.ylabel('Frequency')\n",
    "plt.title('Distribution of Purchases Made Online')"
   ]
  },
  {
   "cell_type": "code",
   "execution_count": 28,
   "metadata": {
    "colab": {
     "base_uri": "https://localhost:8080/",
     "height": 312
    },
    "id": "2QO_tzyZfLM_",
    "outputId": "339a66ff-b5cf-47c8-b6e4-18944b7f0a77"
   },
   "outputs": [
    {
     "data": {
      "text/plain": [
       "Text(0.5, 1.0, 'Distribution of Purchases Made by Catalog')"
      ]
     },
     "execution_count": 28,
     "metadata": {},
     "output_type": "execute_result"
    },
    {
     "data": {
      "image/png": "[encoded data removed]",
      "text/plain": [
       "<Figure size 432x288 with 1 Axes>"
      ]
     },
     "metadata": {
      "needs_background": "light"
     },
     "output_type": "display_data"
    }
   ],
   "source": [
    "n, bins, patches = plt.hist(x=marketingCampaign['NumCatalogPurchases'], bins='auto')\n",
    "plt.xlabel('NumCatalogPurchases')\n",
    "plt.ylabel('Frequency')\n",
    "plt.title('Distribution of Purchases Made by Catalog')"
   ]
  },
  {
   "cell_type": "code",
   "execution_count": 29,
   "metadata": {
    "colab": {
     "base_uri": "https://localhost:8080/",
     "height": 312
    },
    "id": "OkpO0WlYfLYf",
    "outputId": "e81d7b81-893a-4dee-e78a-475d0e9d323b"
   },
   "outputs": [
    {
     "data": {
      "text/plain": [
       "Text(0.5, 1.0, 'Distribution of Purchases Made in Store')"
      ]
     },
     "execution_count": 29,
     "metadata": {},
     "output_type": "execute_result"
    },
    {
     "data": {
      "image/png": "[encoded data removed]",
      "text/plain": [
       "<Figure size 432x288 with 1 Axes>"
      ]
     },
     "metadata": {
      "needs_background": "light"
     },
     "output_type": "display_data"
    }
   ],
   "source": [
    "n, bins, patches = plt.hist(x=marketingCampaign['NumStorePurchases'], bins='auto')\n",
    "plt.xlabel('NumStorePurchases')\n",
    "plt.ylabel('Frequency')\n",
    "plt.title('Distribution of Purchases Made in Store')"
   ]
  },
  {
   "cell_type": "code",
   "execution_count": 30,
   "metadata": {
    "colab": {
     "base_uri": "https://localhost:8080/",
     "height": 312
    },
    "id": "Tp_Xzh_lfLjq",
    "outputId": "b2e8756c-7526-4bdd-e0e0-23acbc59c8bc"
   },
   "outputs": [
    {
     "data": {
      "text/plain": [
       "Text(0.5, 1.0, 'Distribution of Visits to Company Website per Month')"
      ]
     },
     "execution_count": 30,
     "metadata": {},
     "output_type": "execute_result"
    },
    {
     "data": {
      "image/png": "[encoded data removed]",
      "text/plain": [
       "<Figure size 432x288 with 1 Axes>"
      ]
     },
     "metadata": {
      "needs_background": "light"
     },
     "output_type": "display_data"
    }
   ],
   "source": [
    "n, bins, patches = plt.hist(x=marketingCampaign['NumWebVisitsMonth'], bins='auto')\n",
    "plt.xlabel('NumWebVisitsMonth')\n",
    "plt.ylabel('Frequency')\n",
    "plt.title('Distribution of Visits to Company Website per Month')"
   ]
  },
  {
   "cell_type": "code",
   "execution_count": 31,
   "metadata": {
    "colab": {
     "base_uri": "https://localhost:8080/",
     "height": 312
    },
    "id": "uGidHYGhfLsE",
    "outputId": "b2f9d219-331d-499d-bd45-1180e9a0b8dc"
   },
   "outputs": [
    {
     "data": {
      "text/plain": [
       "Text(0.5, 1.0, 'Complaints')"
      ]
     },
     "execution_count": 31,
     "metadata": {},
     "output_type": "execute_result"
    },
    {
     "data": {
      "image/png": "[encoded data removed]",
      "text/plain": [
       "<Figure size 432x288 with 1 Axes>"
      ]
     },
     "metadata": {
      "needs_background": "light"
     },
     "output_type": "display_data"
    }
   ],
   "source": [
    "n, bins, patches = plt.hist(x=marketingCampaign['Complain'], bins='auto')\n",
    "plt.xlabel('Complain')\n",
    "plt.ylabel('Frequency')\n",
    "plt.title('Complaints')"
   ]
  },
  {
   "cell_type": "code",
   "execution_count": 32,
   "metadata": {
    "colab": {
     "base_uri": "https://localhost:8080/",
     "height": 313
    },
    "id": "tjEW1crkfoEX",
    "outputId": "c8246619-1972-4737-9188-0f0012e2bd91"
   },
   "outputs": [
    {
     "data": {
      "text/plain": [
       "Text(0.5, 1.0, 'Distribution of Z_CostContact')"
      ]
     },
     "execution_count": 32,
     "metadata": {},
     "output_type": "execute_result"
    },
    {
     "data": {
      "image/png": "[encoded data removed]",
      "text/plain": [
       "<Figure size 432x288 with 1 Axes>"
      ]
     },
     "metadata": {
      "needs_background": "light"
     },
     "output_type": "display_data"
    }
   ],
   "source": [
    "n, bins, patches = plt.hist(x=marketingCampaign['Z_CostContact'], bins='auto')\n",
    "plt.xlabel('Z_CostContact')\n",
    "plt.ylabel('Frequency')\n",
    "plt.title('Distribution of Z_CostContact')"
   ]
  },
  {
   "cell_type": "code",
   "execution_count": 33,
   "metadata": {
    "colab": {
     "base_uri": "https://localhost:8080/",
     "height": 313
    },
    "id": "ruGEzsQBfrqQ",
    "outputId": "def24a29-14c5-4901-8bd1-dca730c60afe"
   },
   "outputs": [
    {
     "data": {
      "text/plain": [
       "Text(0.5, 1.0, 'Distribution of Z_Revenue')"
      ]
     },
     "execution_count": 33,
     "metadata": {},
     "output_type": "execute_result"
    },
    {
     "data": {
      "image/png": "[encoded data removed]",
      "text/plain": [
       "<Figure size 432x288 with 1 Axes>"
      ]
     },
     "metadata": {
      "needs_background": "light"
     },
     "output_type": "display_data"
    }
   ],
   "source": [
    "n, bins, patches = plt.hist(x=marketingCampaign['Z_Revenue'], bins='auto')\n",
    "plt.xlabel('Z_Revenue')\n",
    "plt.ylabel('Frequency')\n",
    "plt.title('Distribution of Z_Revenue')"
   ]
  },
  {
   "cell_type": "code",
   "execution_count": 34,
   "metadata": {},
   "outputs": [
    {
     "data": {
      "image/png": "[encoded data removed]",
      "text/plain": [
       "<Figure size 576x360 with 1 Axes>"
      ]
     },
     "metadata": {
      "needs_background": "light"
     },
     "output_type": "display_data"
    }
   ],
   "source": [
    "boxplot = marketingCampaign.boxplot(grid=False, rot=80, fontsize=13, figsize=(8,5))  \n"
   ]
  },
  {
   "cell_type": "code",
   "execution_count": 41,
   "metadata": {},
   "outputs": [
    {
     "data": {
      "image/png": "[encoded data removed]",
      "text/plain": [
       "<Figure size 432x360 with 1 Axes>"
      ]
     },
     "metadata": {
      "needs_background": "light"
     },
     "output_type": "display_data"
    }
   ],
   "source": [
    "# outlier box plot\n",
    "marketingCampaign['Income'].plot(kind='box', title='Income',figsize=(6,5))\n",
    "plt.show()"
   ]
  }
 ],
 "metadata": {
  "colab": {
   "provenance": []
  },
  "kernelspec": {
   "display_name": "Python 3 (ipykernel)",
   "language": "python",
   "name": "python3"
  },
  "language_info": {
   "codemirror_mode": {
    "name": "ipython",
    "version": 3
   },
   "file_extension": ".py",
   "mimetype": "text/x-python",
   "name": "python",
   "nbconvert_exporter": "python",
   "pygments_lexer": "ipython3",
   "version": "3.9.12"
  }
 },
 "nbformat": 4,
 "nbformat_minor": 4
}
